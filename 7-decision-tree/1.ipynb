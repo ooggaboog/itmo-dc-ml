{
 "nbformat": 4,
 "nbformat_minor": 0,
 "metadata": {
  "colab": {
   "provenance": []
  },
  "kernelspec": {
   "name": "python3",
   "display_name": "Python 3"
  },
  "language_info": {
   "name": "python"
  }
 },
 "cells": [
  {
   "cell_type": "code",
   "source": [
    "import pandas as pd\n",
    "import seaborn as sns\n",
    "import matplotlib.pyplot as plt\n",
    "import numpy as np\n",
    "from scipy.stats import zscore\n",
    "from sklearn.model_selection import train_test_split\n",
    "from sklearn.tree import DecisionTreeClassifier\n",
    "from sklearn.metrics import f1_score\n",
    "from imblearn.over_sampling import SMOTE"
   ],
   "metadata": {
    "id": "gBQ0YN2wWA8z"
   },
   "execution_count": null,
   "outputs": []
  },
  {
   "cell_type": "markdown",
   "source": [
    "# Классификация при помощи ДПР"
   ],
   "metadata": {
    "id": "WBsRp9afwB_k"
   }
  },
  {
   "cell_type": "markdown",
   "source": [
    "# Описание набора данных"
   ],
   "metadata": {
    "id": "tAHDw8MfwMCs"
   }
  },
  {
   "cell_type": "markdown",
   "source": [
    "В этой лабораторной работе мы рассмотрим разные подходы к задаче классификации, в частности, деревья принятия решений, а также поговорим о том, как бороться с несбалансированностью датасета."
   ],
   "metadata": {
    "id": "xIaqzMrkMZq6"
   }
  },
  {
   "cell_type": "markdown",
   "source": [
    "Изучаемый нами набор данных — это набор данных о принятых предложениях по кредитам в банке **Thera-Bank**. Основные клиенты банка пользуются банком для того, чтобы разместить в нем свои денежные средства, то есть являются вкладчиками. В то же время, большую прибыль банку приносят кредиторы — люди, берущие в банке кредит. Поэтому банк хочет сформировать для своих вкладчиков выгодные предложения по кредиту. Кампания, проведенная банком для вкладчиков в прошлом году, показала, что коэффициент конверсии составил более 9,6%. Это побудило отдел маркетинга разработать кампании с улучшенным целевым маркетингом, чтобы увеличить вероятность успеха при, естественно, минимальном бюджете. Департамент хотел бы разработать классификатор, который поможет им определить потенциальных клиентов, которые с большей вероятностью приобретут кредит. Это повысит вероятность успеха при одновременном снижении стоимости кампании."
   ],
   "metadata": {
    "id": "C_ayFAKDMjPs"
   }
  },
  {
   "cell_type": "markdown",
   "source": [
    "Набор данных содержит как информацию о клиенте, так и информацию о его реакции на кампанию предыдущего года:\n",
    "\n",
    "*   **ID**: ID клиента\n",
    "\n",
    "*   **Age**: Возраст (полных лет)\n",
    "\n",
    "*   **Experience**: Стаж\n",
    "\n",
    "*   **Income**: Годовой доход (в тысячах)\n",
    "\n",
    "*   **ZIP Code**: Индекс места проживания\n",
    "\n",
    "*   **Family**: Количество членов семьи\n",
    "\n",
    "*   **CCAvg**: Средние траты в месяц по кредитной карте (в тысячах)\n",
    "\n",
    "*   **Education**: Уровень образования (1: бакалавр, 2: магистр, 3: что-то большее)\n",
    "\n",
    "*   **Mortgage**: Стоимость ипотеки, если имеется (в тысячах)\n",
    "\n",
    "*   **Securities Account**: Наличие счета в ценных бумагах\n",
    "\n",
    "*   **CD Account**: Наличие сертификата на депозит\n",
    "\n",
    "*   **Online**: Использует ли клиент интернет-банкинг\n",
    "\n",
    "*   **CreditCard**: Использует ли клиент кредитную карту, выпущенную данным банком\n",
    "\n",
    "*   **Personal Loan**: Принял ли клиент персональное предложение по кредиту (целевая переменная)"
   ],
   "metadata": {
    "id": "o7DY-rDVOGoE"
   }
  },
  {
   "cell_type": "markdown",
   "source": [
    "# Разведочный анализ данных"
   ],
   "metadata": {
    "id": "npoTXkLETgmH"
   }
  },
  {
   "cell_type": "markdown",
   "source": [
    "Считайте набор данных в датафрейм"
   ],
   "metadata": {
    "id": "8JD_Js7sBDX9"
   }
  },
  {
   "cell_type": "code",
   "source": [
    "df = pd.read_csv('https://courses.openedu.ru/assets/courseware/v1/0c61cf43490f9189f8ddb65a887dcc64/asset-v1:ITMOUniversity+MLDATAN+spring_2024_ITMO_bac+type@asset+block/Bank_Personal_Loan_Modelling_train.csv')\n",
    "df.head()"
   ],
   "metadata": {
    "id": "N-EaF0UkMM--",
    "colab": {
     "base_uri": "https://localhost:8080/",
     "height": 206
    },
    "outputId": "7b4dea6e-ee58-4320-ea23-16fdbc8903d4"
   },
   "execution_count": null,
   "outputs": [
    {
     "output_type": "execute_result",
     "data": {
      "text/plain": [
       "     ID  Age  Experience  Income  ZIP Code  Family  CCAvg  Education  \\\n",
       "0   409   60          36      89     91745       2    2.8          1   \n",
       "1  3738   44          19      30     91423       1    0.5          3   \n",
       "2  3890   26           0      19     93014       1    0.1          2   \n",
       "3   569   34           9      41     92101       2    0.1          1   \n",
       "4  1042   56          32      51     92780       4    1.5          1   \n",
       "\n",
       "   Mortgage  Personal Loan  Securities Account  CD Account  Online  CreditCard  \n",
       "0         0              0                   0           0       1           0  \n",
       "1         0              0                   0           0       1           0  \n",
       "2       121              0                   0           0       1           0  \n",
       "3       161              0                   0           0       1           1  \n",
       "4         0              0                   0           0       0           0  "
      ],
      "text/html": [
       "\n",
       "  <div id=\"df-cce7f153-87fc-438c-a2b8-bf58cd3ca6b8\" class=\"colab-df-container\">\n",
       "    <div>\n",
       "<style scoped>\n",
       "    .dataframe tbody tr th:only-of-type {\n",
       "        vertical-align: middle;\n",
       "    }\n",
       "\n",
       "    .dataframe tbody tr th {\n",
       "        vertical-align: top;\n",
       "    }\n",
       "\n",
       "    .dataframe thead th {\n",
       "        text-align: right;\n",
       "    }\n",
       "</style>\n",
       "<table border=\"1\" class=\"dataframe\">\n",
       "  <thead>\n",
       "    <tr style=\"text-align: right;\">\n",
       "      <th></th>\n",
       "      <th>ID</th>\n",
       "      <th>Age</th>\n",
       "      <th>Experience</th>\n",
       "      <th>Income</th>\n",
       "      <th>ZIP Code</th>\n",
       "      <th>Family</th>\n",
       "      <th>CCAvg</th>\n",
       "      <th>Education</th>\n",
       "      <th>Mortgage</th>\n",
       "      <th>Personal Loan</th>\n",
       "      <th>Securities Account</th>\n",
       "      <th>CD Account</th>\n",
       "      <th>Online</th>\n",
       "      <th>CreditCard</th>\n",
       "    </tr>\n",
       "  </thead>\n",
       "  <tbody>\n",
       "    <tr>\n",
       "      <th>0</th>\n",
       "      <td>409</td>\n",
       "      <td>60</td>\n",
       "      <td>36</td>\n",
       "      <td>89</td>\n",
       "      <td>91745</td>\n",
       "      <td>2</td>\n",
       "      <td>2.8</td>\n",
       "      <td>1</td>\n",
       "      <td>0</td>\n",
       "      <td>0</td>\n",
       "      <td>0</td>\n",
       "      <td>0</td>\n",
       "      <td>1</td>\n",
       "      <td>0</td>\n",
       "    </tr>\n",
       "    <tr>\n",
       "      <th>1</th>\n",
       "      <td>3738</td>\n",
       "      <td>44</td>\n",
       "      <td>19</td>\n",
       "      <td>30</td>\n",
       "      <td>91423</td>\n",
       "      <td>1</td>\n",
       "      <td>0.5</td>\n",
       "      <td>3</td>\n",
       "      <td>0</td>\n",
       "      <td>0</td>\n",
       "      <td>0</td>\n",
       "      <td>0</td>\n",
       "      <td>1</td>\n",
       "      <td>0</td>\n",
       "    </tr>\n",
       "    <tr>\n",
       "      <th>2</th>\n",
       "      <td>3890</td>\n",
       "      <td>26</td>\n",
       "      <td>0</td>\n",
       "      <td>19</td>\n",
       "      <td>93014</td>\n",
       "      <td>1</td>\n",
       "      <td>0.1</td>\n",
       "      <td>2</td>\n",
       "      <td>121</td>\n",
       "      <td>0</td>\n",
       "      <td>0</td>\n",
       "      <td>0</td>\n",
       "      <td>1</td>\n",
       "      <td>0</td>\n",
       "    </tr>\n",
       "    <tr>\n",
       "      <th>3</th>\n",
       "      <td>569</td>\n",
       "      <td>34</td>\n",
       "      <td>9</td>\n",
       "      <td>41</td>\n",
       "      <td>92101</td>\n",
       "      <td>2</td>\n",
       "      <td>0.1</td>\n",
       "      <td>1</td>\n",
       "      <td>161</td>\n",
       "      <td>0</td>\n",
       "      <td>0</td>\n",
       "      <td>0</td>\n",
       "      <td>1</td>\n",
       "      <td>1</td>\n",
       "    </tr>\n",
       "    <tr>\n",
       "      <th>4</th>\n",
       "      <td>1042</td>\n",
       "      <td>56</td>\n",
       "      <td>32</td>\n",
       "      <td>51</td>\n",
       "      <td>92780</td>\n",
       "      <td>4</td>\n",
       "      <td>1.5</td>\n",
       "      <td>1</td>\n",
       "      <td>0</td>\n",
       "      <td>0</td>\n",
       "      <td>0</td>\n",
       "      <td>0</td>\n",
       "      <td>0</td>\n",
       "      <td>0</td>\n",
       "    </tr>\n",
       "  </tbody>\n",
       "</table>\n",
       "</div>\n",
       "    <div class=\"colab-df-buttons\">\n",
       "\n",
       "  <div class=\"colab-df-container\">\n",
       "    <button class=\"colab-df-convert\" onclick=\"convertToInteractive('df-cce7f153-87fc-438c-a2b8-bf58cd3ca6b8')\"\n",
       "            title=\"Convert this dataframe to an interactive table.\"\n",
       "            style=\"display:none;\">\n",
       "\n",
       "  <svg xmlns=\"http://www.w3.org/2000/svg\" height=\"24px\" viewBox=\"0 -960 960 960\">\n",
       "    <path d=\"M120-120v-720h720v720H120Zm60-500h600v-160H180v160Zm220 220h160v-160H400v160Zm0 220h160v-160H400v160ZM180-400h160v-160H180v160Zm440 0h160v-160H620v160ZM180-180h160v-160H180v160Zm440 0h160v-160H620v160Z\"/>\n",
       "  </svg>\n",
       "    </button>\n",
       "\n",
       "  <style>\n",
       "    .colab-df-container {\n",
       "      display:flex;\n",
       "      gap: 12px;\n",
       "    }\n",
       "\n",
       "    .colab-df-convert {\n",
       "      background-color: #E8F0FE;\n",
       "      border: none;\n",
       "      border-radius: 50%;\n",
       "      cursor: pointer;\n",
       "      display: none;\n",
       "      fill: #1967D2;\n",
       "      height: 32px;\n",
       "      padding: 0 0 0 0;\n",
       "      width: 32px;\n",
       "    }\n",
       "\n",
       "    .colab-df-convert:hover {\n",
       "      background-color: #E2EBFA;\n",
       "      box-shadow: 0px 1px 2px rgba(60, 64, 67, 0.3), 0px 1px 3px 1px rgba(60, 64, 67, 0.15);\n",
       "      fill: #174EA6;\n",
       "    }\n",
       "\n",
       "    .colab-df-buttons div {\n",
       "      margin-bottom: 4px;\n",
       "    }\n",
       "\n",
       "    [theme=dark] .colab-df-convert {\n",
       "      background-color: #3B4455;\n",
       "      fill: #D2E3FC;\n",
       "    }\n",
       "\n",
       "    [theme=dark] .colab-df-convert:hover {\n",
       "      background-color: #434B5C;\n",
       "      box-shadow: 0px 1px 3px 1px rgba(0, 0, 0, 0.15);\n",
       "      filter: drop-shadow(0px 1px 2px rgba(0, 0, 0, 0.3));\n",
       "      fill: #FFFFFF;\n",
       "    }\n",
       "  </style>\n",
       "\n",
       "    <script>\n",
       "      const buttonEl =\n",
       "        document.querySelector('#df-cce7f153-87fc-438c-a2b8-bf58cd3ca6b8 button.colab-df-convert');\n",
       "      buttonEl.style.display =\n",
       "        google.colab.kernel.accessAllowed ? 'block' : 'none';\n",
       "\n",
       "      async function convertToInteractive(key) {\n",
       "        const element = document.querySelector('#df-cce7f153-87fc-438c-a2b8-bf58cd3ca6b8');\n",
       "        const dataTable =\n",
       "          await google.colab.kernel.invokeFunction('convertToInteractive',\n",
       "                                                    [key], {});\n",
       "        if (!dataTable) return;\n",
       "\n",
       "        const docLinkHtml = 'Like what you see? Visit the ' +\n",
       "          '<a target=\"_blank\" href=https://colab.research.google.com/notebooks/data_table.ipynb>data table notebook</a>'\n",
       "          + ' to learn more about interactive tables.';\n",
       "        element.innerHTML = '';\n",
       "        dataTable['output_type'] = 'display_data';\n",
       "        await google.colab.output.renderOutput(dataTable, element);\n",
       "        const docLink = document.createElement('div');\n",
       "        docLink.innerHTML = docLinkHtml;\n",
       "        element.appendChild(docLink);\n",
       "      }\n",
       "    </script>\n",
       "  </div>\n",
       "\n",
       "\n",
       "<div id=\"df-dac77c11-7856-4dbf-8a7e-e654fc1d12ec\">\n",
       "  <button class=\"colab-df-quickchart\" onclick=\"quickchart('df-dac77c11-7856-4dbf-8a7e-e654fc1d12ec')\"\n",
       "            title=\"Suggest charts\"\n",
       "            style=\"display:none;\">\n",
       "\n",
       "<svg xmlns=\"http://www.w3.org/2000/svg\" height=\"24px\"viewBox=\"0 0 24 24\"\n",
       "     width=\"24px\">\n",
       "    <g>\n",
       "        <path d=\"M19 3H5c-1.1 0-2 .9-2 2v14c0 1.1.9 2 2 2h14c1.1 0 2-.9 2-2V5c0-1.1-.9-2-2-2zM9 17H7v-7h2v7zm4 0h-2V7h2v10zm4 0h-2v-4h2v4z\"/>\n",
       "    </g>\n",
       "</svg>\n",
       "  </button>\n",
       "\n",
       "<style>\n",
       "  .colab-df-quickchart {\n",
       "      --bg-color: #E8F0FE;\n",
       "      --fill-color: #1967D2;\n",
       "      --hover-bg-color: #E2EBFA;\n",
       "      --hover-fill-color: #174EA6;\n",
       "      --disabled-fill-color: #AAA;\n",
       "      --disabled-bg-color: #DDD;\n",
       "  }\n",
       "\n",
       "  [theme=dark] .colab-df-quickchart {\n",
       "      --bg-color: #3B4455;\n",
       "      --fill-color: #D2E3FC;\n",
       "      --hover-bg-color: #434B5C;\n",
       "      --hover-fill-color: #FFFFFF;\n",
       "      --disabled-bg-color: #3B4455;\n",
       "      --disabled-fill-color: #666;\n",
       "  }\n",
       "\n",
       "  .colab-df-quickchart {\n",
       "    background-color: var(--bg-color);\n",
       "    border: none;\n",
       "    border-radius: 50%;\n",
       "    cursor: pointer;\n",
       "    display: none;\n",
       "    fill: var(--fill-color);\n",
       "    height: 32px;\n",
       "    padding: 0;\n",
       "    width: 32px;\n",
       "  }\n",
       "\n",
       "  .colab-df-quickchart:hover {\n",
       "    background-color: var(--hover-bg-color);\n",
       "    box-shadow: 0 1px 2px rgba(60, 64, 67, 0.3), 0 1px 3px 1px rgba(60, 64, 67, 0.15);\n",
       "    fill: var(--button-hover-fill-color);\n",
       "  }\n",
       "\n",
       "  .colab-df-quickchart-complete:disabled,\n",
       "  .colab-df-quickchart-complete:disabled:hover {\n",
       "    background-color: var(--disabled-bg-color);\n",
       "    fill: var(--disabled-fill-color);\n",
       "    box-shadow: none;\n",
       "  }\n",
       "\n",
       "  .colab-df-spinner {\n",
       "    border: 2px solid var(--fill-color);\n",
       "    border-color: transparent;\n",
       "    border-bottom-color: var(--fill-color);\n",
       "    animation:\n",
       "      spin 1s steps(1) infinite;\n",
       "  }\n",
       "\n",
       "  @keyframes spin {\n",
       "    0% {\n",
       "      border-color: transparent;\n",
       "      border-bottom-color: var(--fill-color);\n",
       "      border-left-color: var(--fill-color);\n",
       "    }\n",
       "    20% {\n",
       "      border-color: transparent;\n",
       "      border-left-color: var(--fill-color);\n",
       "      border-top-color: var(--fill-color);\n",
       "    }\n",
       "    30% {\n",
       "      border-color: transparent;\n",
       "      border-left-color: var(--fill-color);\n",
       "      border-top-color: var(--fill-color);\n",
       "      border-right-color: var(--fill-color);\n",
       "    }\n",
       "    40% {\n",
       "      border-color: transparent;\n",
       "      border-right-color: var(--fill-color);\n",
       "      border-top-color: var(--fill-color);\n",
       "    }\n",
       "    60% {\n",
       "      border-color: transparent;\n",
       "      border-right-color: var(--fill-color);\n",
       "    }\n",
       "    80% {\n",
       "      border-color: transparent;\n",
       "      border-right-color: var(--fill-color);\n",
       "      border-bottom-color: var(--fill-color);\n",
       "    }\n",
       "    90% {\n",
       "      border-color: transparent;\n",
       "      border-bottom-color: var(--fill-color);\n",
       "    }\n",
       "  }\n",
       "</style>\n",
       "\n",
       "  <script>\n",
       "    async function quickchart(key) {\n",
       "      const quickchartButtonEl =\n",
       "        document.querySelector('#' + key + ' button');\n",
       "      quickchartButtonEl.disabled = true;  // To prevent multiple clicks.\n",
       "      quickchartButtonEl.classList.add('colab-df-spinner');\n",
       "      try {\n",
       "        const charts = await google.colab.kernel.invokeFunction(\n",
       "            'suggestCharts', [key], {});\n",
       "      } catch (error) {\n",
       "        console.error('Error during call to suggestCharts:', error);\n",
       "      }\n",
       "      quickchartButtonEl.classList.remove('colab-df-spinner');\n",
       "      quickchartButtonEl.classList.add('colab-df-quickchart-complete');\n",
       "    }\n",
       "    (() => {\n",
       "      let quickchartButtonEl =\n",
       "        document.querySelector('#df-dac77c11-7856-4dbf-8a7e-e654fc1d12ec button');\n",
       "      quickchartButtonEl.style.display =\n",
       "        google.colab.kernel.accessAllowed ? 'block' : 'none';\n",
       "    })();\n",
       "  </script>\n",
       "</div>\n",
       "    </div>\n",
       "  </div>\n"
      ],
      "application/vnd.google.colaboratory.intrinsic+json": {
       "type": "dataframe",
       "variable_name": "df",
       "summary": "{\n  \"name\": \"df\",\n  \"rows\": 4000,\n  \"fields\": [\n    {\n      \"column\": \"ID\",\n      \"properties\": {\n        \"dtype\": \"number\",\n        \"std\": 1449,\n        \"min\": 1,\n        \"max\": 5000,\n        \"num_unique_values\": 4000,\n        \"samples\": [\n          3493,\n          3373,\n          333\n        ],\n        \"semantic_type\": \"\",\n        \"description\": \"\"\n      }\n    },\n    {\n      \"column\": \"Age\",\n      \"properties\": {\n        \"dtype\": \"number\",\n        \"std\": 11,\n        \"min\": 23,\n        \"max\": 67,\n        \"num_unique_values\": 45,\n        \"samples\": [\n          36,\n          31,\n          61\n        ],\n        \"semantic_type\": \"\",\n        \"description\": \"\"\n      }\n    },\n    {\n      \"column\": \"Experience\",\n      \"properties\": {\n        \"dtype\": \"number\",\n        \"std\": 11,\n        \"min\": -3,\n        \"max\": 43,\n        \"num_unique_values\": 47,\n        \"samples\": [\n          22,\n          29,\n          37\n        ],\n        \"semantic_type\": \"\",\n        \"description\": \"\"\n      }\n    },\n    {\n      \"column\": \"Income\",\n      \"properties\": {\n        \"dtype\": \"number\",\n        \"std\": 46,\n        \"min\": 8,\n        \"max\": 224,\n        \"num_unique_values\": 162,\n        \"samples\": [\n          200,\n          174,\n          102\n        ],\n        \"semantic_type\": \"\",\n        \"description\": \"\"\n      }\n    },\n    {\n      \"column\": \"ZIP Code\",\n      \"properties\": {\n        \"dtype\": \"number\",\n        \"std\": 2197,\n        \"min\": 9307,\n        \"max\": 96651,\n        \"num_unique_values\": 466,\n        \"samples\": [\n          94590,\n          91335,\n          91330\n        ],\n        \"semantic_type\": \"\",\n        \"description\": \"\"\n      }\n    },\n    {\n      \"column\": \"Family\",\n      \"properties\": {\n        \"dtype\": \"number\",\n        \"std\": 1,\n        \"min\": 1,\n        \"max\": 4,\n        \"num_unique_values\": 4,\n        \"samples\": [\n          1,\n          3,\n          2\n        ],\n        \"semantic_type\": \"\",\n        \"description\": \"\"\n      }\n    },\n    {\n      \"column\": \"CCAvg\",\n      \"properties\": {\n        \"dtype\": \"number\",\n        \"std\": 1.7389737489105035,\n        \"min\": 0.0,\n        \"max\": 10.0,\n        \"num_unique_values\": 107,\n        \"samples\": [\n          4.8,\n          0.0,\n          2.5\n        ],\n        \"semantic_type\": \"\",\n        \"description\": \"\"\n      }\n    },\n    {\n      \"column\": \"Education\",\n      \"properties\": {\n        \"dtype\": \"number\",\n        \"std\": 0,\n        \"min\": 1,\n        \"max\": 3,\n        \"num_unique_values\": 3,\n        \"samples\": [\n          1,\n          3,\n          2\n        ],\n        \"semantic_type\": \"\",\n        \"description\": \"\"\n      }\n    },\n    {\n      \"column\": \"Mortgage\",\n      \"properties\": {\n        \"dtype\": \"number\",\n        \"std\": 101,\n        \"min\": 0,\n        \"max\": 635,\n        \"num_unique_values\": 321,\n        \"samples\": [\n          475,\n          240,\n          238\n        ],\n        \"semantic_type\": \"\",\n        \"description\": \"\"\n      }\n    },\n    {\n      \"column\": \"Personal Loan\",\n      \"properties\": {\n        \"dtype\": \"number\",\n        \"std\": 0,\n        \"min\": 0,\n        \"max\": 1,\n        \"num_unique_values\": 2,\n        \"samples\": [\n          1,\n          0\n        ],\n        \"semantic_type\": \"\",\n        \"description\": \"\"\n      }\n    },\n    {\n      \"column\": \"Securities Account\",\n      \"properties\": {\n        \"dtype\": \"number\",\n        \"std\": 0,\n        \"min\": 0,\n        \"max\": 1,\n        \"num_unique_values\": 2,\n        \"samples\": [\n          1,\n          0\n        ],\n        \"semantic_type\": \"\",\n        \"description\": \"\"\n      }\n    },\n    {\n      \"column\": \"CD Account\",\n      \"properties\": {\n        \"dtype\": \"number\",\n        \"std\": 0,\n        \"min\": 0,\n        \"max\": 1,\n        \"num_unique_values\": 2,\n        \"samples\": [\n          1,\n          0\n        ],\n        \"semantic_type\": \"\",\n        \"description\": \"\"\n      }\n    },\n    {\n      \"column\": \"Online\",\n      \"properties\": {\n        \"dtype\": \"number\",\n        \"std\": 0,\n        \"min\": 0,\n        \"max\": 1,\n        \"num_unique_values\": 2,\n        \"samples\": [\n          0,\n          1\n        ],\n        \"semantic_type\": \"\",\n        \"description\": \"\"\n      }\n    },\n    {\n      \"column\": \"CreditCard\",\n      \"properties\": {\n        \"dtype\": \"number\",\n        \"std\": 0,\n        \"min\": 0,\n        \"max\": 1,\n        \"num_unique_values\": 2,\n        \"samples\": [\n          1,\n          0\n        ],\n        \"semantic_type\": \"\",\n        \"description\": \"\"\n      }\n    }\n  ]\n}"
      }
     },
     "metadata": {},
     "execution_count": 36
    }
   ]
  },
  {
   "cell_type": "markdown",
   "source": [
    "При помощи метода <code>.describe()</code> изучите набор данных «с высоты птичьего полета»."
   ],
   "metadata": {
    "id": "czPRb3i9OD3E"
   }
  },
  {
   "cell_type": "code",
   "source": [
    "df.describe()"
   ],
   "metadata": {
    "id": "obERUrx2MS-_",
    "colab": {
     "base_uri": "https://localhost:8080/",
     "height": 338
    },
    "outputId": "2f9d977f-6e81-4f14-fd8b-be8c10f74436"
   },
   "execution_count": null,
   "outputs": [
    {
     "output_type": "execute_result",
     "data": {
      "text/plain": [
       "                ID          Age   Experience       Income      ZIP Code  \\\n",
       "count  4000.000000  4000.000000  4000.000000  4000.000000   4000.000000   \n",
       "mean   2497.682500    45.429500    20.196250    73.479750  93156.583750   \n",
       "std    1449.723807    11.489235    11.500143    46.321345   2197.762636   \n",
       "min       1.000000    23.000000    -3.000000     8.000000   9307.000000   \n",
       "25%    1245.750000    35.000000    10.000000    38.000000  91941.750000   \n",
       "50%    2492.500000    45.000000    20.000000    63.000000  93407.000000   \n",
       "75%    3767.250000    55.000000    30.000000    98.000000  94608.000000   \n",
       "max    5000.000000    67.000000    43.000000   224.000000  96651.000000   \n",
       "\n",
       "            Family        CCAvg    Education     Mortgage  Personal Loan  \\\n",
       "count  4000.000000  4000.000000  4000.000000  4000.000000    4000.000000   \n",
       "mean      2.381750     1.921805     1.881500    55.968250       0.096000   \n",
       "std       1.149716     1.738974     0.842102   101.054887       0.294628   \n",
       "min       1.000000     0.000000     1.000000     0.000000       0.000000   \n",
       "25%       1.000000     0.700000     1.000000     0.000000       0.000000   \n",
       "50%       2.000000     1.500000     2.000000     0.000000       0.000000   \n",
       "75%       3.000000     2.500000     3.000000   100.000000       0.000000   \n",
       "max       4.000000    10.000000     3.000000   635.000000       1.000000   \n",
       "\n",
       "       Securities Account   CD Account       Online  CreditCard  \n",
       "count         4000.000000  4000.000000  4000.000000  4000.00000  \n",
       "mean             0.104000     0.061500     0.599000     0.29050  \n",
       "std              0.305299     0.240275     0.490162     0.45405  \n",
       "min              0.000000     0.000000     0.000000     0.00000  \n",
       "25%              0.000000     0.000000     0.000000     0.00000  \n",
       "50%              0.000000     0.000000     1.000000     0.00000  \n",
       "75%              0.000000     0.000000     1.000000     1.00000  \n",
       "max              1.000000     1.000000     1.000000     1.00000  "
      ],
      "text/html": [
       "\n",
       "  <div id=\"df-d8f57085-2546-498c-82b1-69280fcb77b0\" class=\"colab-df-container\">\n",
       "    <div>\n",
       "<style scoped>\n",
       "    .dataframe tbody tr th:only-of-type {\n",
       "        vertical-align: middle;\n",
       "    }\n",
       "\n",
       "    .dataframe tbody tr th {\n",
       "        vertical-align: top;\n",
       "    }\n",
       "\n",
       "    .dataframe thead th {\n",
       "        text-align: right;\n",
       "    }\n",
       "</style>\n",
       "<table border=\"1\" class=\"dataframe\">\n",
       "  <thead>\n",
       "    <tr style=\"text-align: right;\">\n",
       "      <th></th>\n",
       "      <th>ID</th>\n",
       "      <th>Age</th>\n",
       "      <th>Experience</th>\n",
       "      <th>Income</th>\n",
       "      <th>ZIP Code</th>\n",
       "      <th>Family</th>\n",
       "      <th>CCAvg</th>\n",
       "      <th>Education</th>\n",
       "      <th>Mortgage</th>\n",
       "      <th>Personal Loan</th>\n",
       "      <th>Securities Account</th>\n",
       "      <th>CD Account</th>\n",
       "      <th>Online</th>\n",
       "      <th>CreditCard</th>\n",
       "    </tr>\n",
       "  </thead>\n",
       "  <tbody>\n",
       "    <tr>\n",
       "      <th>count</th>\n",
       "      <td>4000.000000</td>\n",
       "      <td>4000.000000</td>\n",
       "      <td>4000.000000</td>\n",
       "      <td>4000.000000</td>\n",
       "      <td>4000.000000</td>\n",
       "      <td>4000.000000</td>\n",
       "      <td>4000.000000</td>\n",
       "      <td>4000.000000</td>\n",
       "      <td>4000.000000</td>\n",
       "      <td>4000.000000</td>\n",
       "      <td>4000.000000</td>\n",
       "      <td>4000.000000</td>\n",
       "      <td>4000.000000</td>\n",
       "      <td>4000.00000</td>\n",
       "    </tr>\n",
       "    <tr>\n",
       "      <th>mean</th>\n",
       "      <td>2497.682500</td>\n",
       "      <td>45.429500</td>\n",
       "      <td>20.196250</td>\n",
       "      <td>73.479750</td>\n",
       "      <td>93156.583750</td>\n",
       "      <td>2.381750</td>\n",
       "      <td>1.921805</td>\n",
       "      <td>1.881500</td>\n",
       "      <td>55.968250</td>\n",
       "      <td>0.096000</td>\n",
       "      <td>0.104000</td>\n",
       "      <td>0.061500</td>\n",
       "      <td>0.599000</td>\n",
       "      <td>0.29050</td>\n",
       "    </tr>\n",
       "    <tr>\n",
       "      <th>std</th>\n",
       "      <td>1449.723807</td>\n",
       "      <td>11.489235</td>\n",
       "      <td>11.500143</td>\n",
       "      <td>46.321345</td>\n",
       "      <td>2197.762636</td>\n",
       "      <td>1.149716</td>\n",
       "      <td>1.738974</td>\n",
       "      <td>0.842102</td>\n",
       "      <td>101.054887</td>\n",
       "      <td>0.294628</td>\n",
       "      <td>0.305299</td>\n",
       "      <td>0.240275</td>\n",
       "      <td>0.490162</td>\n",
       "      <td>0.45405</td>\n",
       "    </tr>\n",
       "    <tr>\n",
       "      <th>min</th>\n",
       "      <td>1.000000</td>\n",
       "      <td>23.000000</td>\n",
       "      <td>-3.000000</td>\n",
       "      <td>8.000000</td>\n",
       "      <td>9307.000000</td>\n",
       "      <td>1.000000</td>\n",
       "      <td>0.000000</td>\n",
       "      <td>1.000000</td>\n",
       "      <td>0.000000</td>\n",
       "      <td>0.000000</td>\n",
       "      <td>0.000000</td>\n",
       "      <td>0.000000</td>\n",
       "      <td>0.000000</td>\n",
       "      <td>0.00000</td>\n",
       "    </tr>\n",
       "    <tr>\n",
       "      <th>25%</th>\n",
       "      <td>1245.750000</td>\n",
       "      <td>35.000000</td>\n",
       "      <td>10.000000</td>\n",
       "      <td>38.000000</td>\n",
       "      <td>91941.750000</td>\n",
       "      <td>1.000000</td>\n",
       "      <td>0.700000</td>\n",
       "      <td>1.000000</td>\n",
       "      <td>0.000000</td>\n",
       "      <td>0.000000</td>\n",
       "      <td>0.000000</td>\n",
       "      <td>0.000000</td>\n",
       "      <td>0.000000</td>\n",
       "      <td>0.00000</td>\n",
       "    </tr>\n",
       "    <tr>\n",
       "      <th>50%</th>\n",
       "      <td>2492.500000</td>\n",
       "      <td>45.000000</td>\n",
       "      <td>20.000000</td>\n",
       "      <td>63.000000</td>\n",
       "      <td>93407.000000</td>\n",
       "      <td>2.000000</td>\n",
       "      <td>1.500000</td>\n",
       "      <td>2.000000</td>\n",
       "      <td>0.000000</td>\n",
       "      <td>0.000000</td>\n",
       "      <td>0.000000</td>\n",
       "      <td>0.000000</td>\n",
       "      <td>1.000000</td>\n",
       "      <td>0.00000</td>\n",
       "    </tr>\n",
       "    <tr>\n",
       "      <th>75%</th>\n",
       "      <td>3767.250000</td>\n",
       "      <td>55.000000</td>\n",
       "      <td>30.000000</td>\n",
       "      <td>98.000000</td>\n",
       "      <td>94608.000000</td>\n",
       "      <td>3.000000</td>\n",
       "      <td>2.500000</td>\n",
       "      <td>3.000000</td>\n",
       "      <td>100.000000</td>\n",
       "      <td>0.000000</td>\n",
       "      <td>0.000000</td>\n",
       "      <td>0.000000</td>\n",
       "      <td>1.000000</td>\n",
       "      <td>1.00000</td>\n",
       "    </tr>\n",
       "    <tr>\n",
       "      <th>max</th>\n",
       "      <td>5000.000000</td>\n",
       "      <td>67.000000</td>\n",
       "      <td>43.000000</td>\n",
       "      <td>224.000000</td>\n",
       "      <td>96651.000000</td>\n",
       "      <td>4.000000</td>\n",
       "      <td>10.000000</td>\n",
       "      <td>3.000000</td>\n",
       "      <td>635.000000</td>\n",
       "      <td>1.000000</td>\n",
       "      <td>1.000000</td>\n",
       "      <td>1.000000</td>\n",
       "      <td>1.000000</td>\n",
       "      <td>1.00000</td>\n",
       "    </tr>\n",
       "  </tbody>\n",
       "</table>\n",
       "</div>\n",
       "    <div class=\"colab-df-buttons\">\n",
       "\n",
       "  <div class=\"colab-df-container\">\n",
       "    <button class=\"colab-df-convert\" onclick=\"convertToInteractive('df-d8f57085-2546-498c-82b1-69280fcb77b0')\"\n",
       "            title=\"Convert this dataframe to an interactive table.\"\n",
       "            style=\"display:none;\">\n",
       "\n",
       "  <svg xmlns=\"http://www.w3.org/2000/svg\" height=\"24px\" viewBox=\"0 -960 960 960\">\n",
       "    <path d=\"M120-120v-720h720v720H120Zm60-500h600v-160H180v160Zm220 220h160v-160H400v160Zm0 220h160v-160H400v160ZM180-400h160v-160H180v160Zm440 0h160v-160H620v160ZM180-180h160v-160H180v160Zm440 0h160v-160H620v160Z\"/>\n",
       "  </svg>\n",
       "    </button>\n",
       "\n",
       "  <style>\n",
       "    .colab-df-container {\n",
       "      display:flex;\n",
       "      gap: 12px;\n",
       "    }\n",
       "\n",
       "    .colab-df-convert {\n",
       "      background-color: #E8F0FE;\n",
       "      border: none;\n",
       "      border-radius: 50%;\n",
       "      cursor: pointer;\n",
       "      display: none;\n",
       "      fill: #1967D2;\n",
       "      height: 32px;\n",
       "      padding: 0 0 0 0;\n",
       "      width: 32px;\n",
       "    }\n",
       "\n",
       "    .colab-df-convert:hover {\n",
       "      background-color: #E2EBFA;\n",
       "      box-shadow: 0px 1px 2px rgba(60, 64, 67, 0.3), 0px 1px 3px 1px rgba(60, 64, 67, 0.15);\n",
       "      fill: #174EA6;\n",
       "    }\n",
       "\n",
       "    .colab-df-buttons div {\n",
       "      margin-bottom: 4px;\n",
       "    }\n",
       "\n",
       "    [theme=dark] .colab-df-convert {\n",
       "      background-color: #3B4455;\n",
       "      fill: #D2E3FC;\n",
       "    }\n",
       "\n",
       "    [theme=dark] .colab-df-convert:hover {\n",
       "      background-color: #434B5C;\n",
       "      box-shadow: 0px 1px 3px 1px rgba(0, 0, 0, 0.15);\n",
       "      filter: drop-shadow(0px 1px 2px rgba(0, 0, 0, 0.3));\n",
       "      fill: #FFFFFF;\n",
       "    }\n",
       "  </style>\n",
       "\n",
       "    <script>\n",
       "      const buttonEl =\n",
       "        document.querySelector('#df-d8f57085-2546-498c-82b1-69280fcb77b0 button.colab-df-convert');\n",
       "      buttonEl.style.display =\n",
       "        google.colab.kernel.accessAllowed ? 'block' : 'none';\n",
       "\n",
       "      async function convertToInteractive(key) {\n",
       "        const element = document.querySelector('#df-d8f57085-2546-498c-82b1-69280fcb77b0');\n",
       "        const dataTable =\n",
       "          await google.colab.kernel.invokeFunction('convertToInteractive',\n",
       "                                                    [key], {});\n",
       "        if (!dataTable) return;\n",
       "\n",
       "        const docLinkHtml = 'Like what you see? Visit the ' +\n",
       "          '<a target=\"_blank\" href=https://colab.research.google.com/notebooks/data_table.ipynb>data table notebook</a>'\n",
       "          + ' to learn more about interactive tables.';\n",
       "        element.innerHTML = '';\n",
       "        dataTable['output_type'] = 'display_data';\n",
       "        await google.colab.output.renderOutput(dataTable, element);\n",
       "        const docLink = document.createElement('div');\n",
       "        docLink.innerHTML = docLinkHtml;\n",
       "        element.appendChild(docLink);\n",
       "      }\n",
       "    </script>\n",
       "  </div>\n",
       "\n",
       "\n",
       "<div id=\"df-a9967d96-5c73-4ef5-bda7-eacfe69296e9\">\n",
       "  <button class=\"colab-df-quickchart\" onclick=\"quickchart('df-a9967d96-5c73-4ef5-bda7-eacfe69296e9')\"\n",
       "            title=\"Suggest charts\"\n",
       "            style=\"display:none;\">\n",
       "\n",
       "<svg xmlns=\"http://www.w3.org/2000/svg\" height=\"24px\"viewBox=\"0 0 24 24\"\n",
       "     width=\"24px\">\n",
       "    <g>\n",
       "        <path d=\"M19 3H5c-1.1 0-2 .9-2 2v14c0 1.1.9 2 2 2h14c1.1 0 2-.9 2-2V5c0-1.1-.9-2-2-2zM9 17H7v-7h2v7zm4 0h-2V7h2v10zm4 0h-2v-4h2v4z\"/>\n",
       "    </g>\n",
       "</svg>\n",
       "  </button>\n",
       "\n",
       "<style>\n",
       "  .colab-df-quickchart {\n",
       "      --bg-color: #E8F0FE;\n",
       "      --fill-color: #1967D2;\n",
       "      --hover-bg-color: #E2EBFA;\n",
       "      --hover-fill-color: #174EA6;\n",
       "      --disabled-fill-color: #AAA;\n",
       "      --disabled-bg-color: #DDD;\n",
       "  }\n",
       "\n",
       "  [theme=dark] .colab-df-quickchart {\n",
       "      --bg-color: #3B4455;\n",
       "      --fill-color: #D2E3FC;\n",
       "      --hover-bg-color: #434B5C;\n",
       "      --hover-fill-color: #FFFFFF;\n",
       "      --disabled-bg-color: #3B4455;\n",
       "      --disabled-fill-color: #666;\n",
       "  }\n",
       "\n",
       "  .colab-df-quickchart {\n",
       "    background-color: var(--bg-color);\n",
       "    border: none;\n",
       "    border-radius: 50%;\n",
       "    cursor: pointer;\n",
       "    display: none;\n",
       "    fill: var(--fill-color);\n",
       "    height: 32px;\n",
       "    padding: 0;\n",
       "    width: 32px;\n",
       "  }\n",
       "\n",
       "  .colab-df-quickchart:hover {\n",
       "    background-color: var(--hover-bg-color);\n",
       "    box-shadow: 0 1px 2px rgba(60, 64, 67, 0.3), 0 1px 3px 1px rgba(60, 64, 67, 0.15);\n",
       "    fill: var(--button-hover-fill-color);\n",
       "  }\n",
       "\n",
       "  .colab-df-quickchart-complete:disabled,\n",
       "  .colab-df-quickchart-complete:disabled:hover {\n",
       "    background-color: var(--disabled-bg-color);\n",
       "    fill: var(--disabled-fill-color);\n",
       "    box-shadow: none;\n",
       "  }\n",
       "\n",
       "  .colab-df-spinner {\n",
       "    border: 2px solid var(--fill-color);\n",
       "    border-color: transparent;\n",
       "    border-bottom-color: var(--fill-color);\n",
       "    animation:\n",
       "      spin 1s steps(1) infinite;\n",
       "  }\n",
       "\n",
       "  @keyframes spin {\n",
       "    0% {\n",
       "      border-color: transparent;\n",
       "      border-bottom-color: var(--fill-color);\n",
       "      border-left-color: var(--fill-color);\n",
       "    }\n",
       "    20% {\n",
       "      border-color: transparent;\n",
       "      border-left-color: var(--fill-color);\n",
       "      border-top-color: var(--fill-color);\n",
       "    }\n",
       "    30% {\n",
       "      border-color: transparent;\n",
       "      border-left-color: var(--fill-color);\n",
       "      border-top-color: var(--fill-color);\n",
       "      border-right-color: var(--fill-color);\n",
       "    }\n",
       "    40% {\n",
       "      border-color: transparent;\n",
       "      border-right-color: var(--fill-color);\n",
       "      border-top-color: var(--fill-color);\n",
       "    }\n",
       "    60% {\n",
       "      border-color: transparent;\n",
       "      border-right-color: var(--fill-color);\n",
       "    }\n",
       "    80% {\n",
       "      border-color: transparent;\n",
       "      border-right-color: var(--fill-color);\n",
       "      border-bottom-color: var(--fill-color);\n",
       "    }\n",
       "    90% {\n",
       "      border-color: transparent;\n",
       "      border-bottom-color: var(--fill-color);\n",
       "    }\n",
       "  }\n",
       "</style>\n",
       "\n",
       "  <script>\n",
       "    async function quickchart(key) {\n",
       "      const quickchartButtonEl =\n",
       "        document.querySelector('#' + key + ' button');\n",
       "      quickchartButtonEl.disabled = true;  // To prevent multiple clicks.\n",
       "      quickchartButtonEl.classList.add('colab-df-spinner');\n",
       "      try {\n",
       "        const charts = await google.colab.kernel.invokeFunction(\n",
       "            'suggestCharts', [key], {});\n",
       "      } catch (error) {\n",
       "        console.error('Error during call to suggestCharts:', error);\n",
       "      }\n",
       "      quickchartButtonEl.classList.remove('colab-df-spinner');\n",
       "      quickchartButtonEl.classList.add('colab-df-quickchart-complete');\n",
       "    }\n",
       "    (() => {\n",
       "      let quickchartButtonEl =\n",
       "        document.querySelector('#df-a9967d96-5c73-4ef5-bda7-eacfe69296e9 button');\n",
       "      quickchartButtonEl.style.display =\n",
       "        google.colab.kernel.accessAllowed ? 'block' : 'none';\n",
       "    })();\n",
       "  </script>\n",
       "</div>\n",
       "    </div>\n",
       "  </div>\n"
      ],
      "application/vnd.google.colaboratory.intrinsic+json": {
       "type": "dataframe",
       "summary": "{\n  \"name\": \"df\",\n  \"rows\": 8,\n  \"fields\": [\n    {\n      \"column\": \"ID\",\n      \"properties\": {\n        \"dtype\": \"number\",\n        \"std\": 1647.57199976696,\n        \"min\": 1.0,\n        \"max\": 5000.0,\n        \"num_unique_values\": 8,\n        \"samples\": [\n          2497.6825,\n          2492.5,\n          4000.0\n        ],\n        \"semantic_type\": \"\",\n        \"description\": \"\"\n      }\n    },\n    {\n      \"column\": \"Age\",\n      \"properties\": {\n        \"dtype\": \"number\",\n        \"std\": 1400.0834329687634,\n        \"min\": 11.48923541331605,\n        \"max\": 4000.0,\n        \"num_unique_values\": 8,\n        \"samples\": [\n          45.4295,\n          45.0,\n          4000.0\n        ],\n        \"semantic_type\": \"\",\n        \"description\": \"\"\n      }\n    },\n    {\n      \"column\": \"Experience\",\n      \"properties\": {\n        \"dtype\": \"number\",\n        \"std\": 1407.6288956895978,\n        \"min\": -3.0,\n        \"max\": 4000.0,\n        \"num_unique_values\": 8,\n        \"samples\": [\n          20.19625,\n          20.0,\n          4000.0\n        ],\n        \"semantic_type\": \"\",\n        \"description\": \"\"\n      }\n    },\n    {\n      \"column\": \"Income\",\n      \"properties\": {\n        \"dtype\": \"number\",\n        \"std\": 1387.910974647818,\n        \"min\": 8.0,\n        \"max\": 4000.0,\n        \"num_unique_values\": 8,\n        \"samples\": [\n          73.47975,\n          63.0,\n          4000.0\n        ],\n        \"semantic_type\": \"\",\n        \"description\": \"\"\n      }\n    },\n    {\n      \"column\": \"ZIP Code\",\n      \"properties\": {\n        \"dtype\": \"number\",\n        \"std\": 46012.54491087722,\n        \"min\": 2197.762635986191,\n        \"max\": 96651.0,\n        \"num_unique_values\": 8,\n        \"samples\": [\n          93156.58375,\n          93407.0,\n          4000.0\n        ],\n        \"semantic_type\": \"\",\n        \"description\": \"\"\n      }\n    },\n    {\n      \"column\": \"Family\",\n      \"properties\": {\n        \"dtype\": \"number\",\n        \"std\": 1413.480008091279,\n        \"min\": 1.0,\n        \"max\": 4000.0,\n        \"num_unique_values\": 7,\n        \"samples\": [\n          4000.0,\n          2.38175,\n          3.0\n        ],\n        \"semantic_type\": \"\",\n        \"description\": \"\"\n      }\n    },\n    {\n      \"column\": \"CCAvg\",\n      \"properties\": {\n        \"dtype\": \"number\",\n        \"std\": 1413.2896169090607,\n        \"min\": 0.0,\n        \"max\": 4000.0,\n        \"num_unique_values\": 8,\n        \"samples\": [\n          1.9218050000000002,\n          1.5,\n          4000.0\n        ],\n        \"semantic_type\": \"\",\n        \"description\": \"\"\n      }\n    },\n    {\n      \"column\": \"Education\",\n      \"properties\": {\n        \"dtype\": \"number\",\n        \"std\": 1413.5711822677465,\n        \"min\": 0.8421015578648691,\n        \"max\": 4000.0,\n        \"num_unique_values\": 6,\n        \"samples\": [\n          4000.0,\n          1.8815,\n          3.0\n        ],\n        \"semantic_type\": \"\",\n        \"description\": \"\"\n      }\n    },\n    {\n      \"column\": \"Mortgage\",\n      \"properties\": {\n        \"dtype\": \"number\",\n        \"std\": 1385.3871680706206,\n        \"min\": 0.0,\n        \"max\": 4000.0,\n        \"num_unique_values\": 6,\n        \"samples\": [\n          4000.0,\n          55.96825,\n          635.0\n        ],\n        \"semantic_type\": \"\",\n        \"description\": \"\"\n      }\n    },\n    {\n      \"column\": \"Personal Loan\",\n      \"properties\": {\n        \"dtype\": \"number\",\n        \"std\": 1414.1433664548529,\n        \"min\": 0.0,\n        \"max\": 4000.0,\n        \"num_unique_values\": 5,\n        \"samples\": [\n          0.096,\n          1.0,\n          0.29462807304355154\n        ],\n        \"semantic_type\": \"\",\n        \"description\": \"\"\n      }\n    },\n    {\n      \"column\": \"Securities Account\",\n      \"properties\": {\n        \"dtype\": \"number\",\n        \"std\": 1414.1424234722997,\n        \"min\": 0.0,\n        \"max\": 4000.0,\n        \"num_unique_values\": 5,\n        \"samples\": [\n          0.104,\n          1.0,\n          0.30529870917751417\n        ],\n        \"semantic_type\": \"\",\n        \"description\": \"\"\n      }\n    },\n    {\n      \"column\": \"CD Account\",\n      \"properties\": {\n        \"dtype\": \"number\",\n        \"std\": 1414.1478541845593,\n        \"min\": 0.0,\n        \"max\": 4000.0,\n        \"num_unique_values\": 5,\n        \"samples\": [\n          0.0615,\n          1.0,\n          0.24027522353701272\n        ],\n        \"semantic_type\": \"\",\n        \"description\": \"\"\n      }\n    },\n    {\n      \"column\": \"Online\",\n      \"properties\": {\n        \"dtype\": \"number\",\n        \"std\": 1414.007089627606,\n        \"min\": 0.0,\n        \"max\": 4000.0,\n        \"num_unique_values\": 5,\n        \"samples\": [\n          0.599,\n          1.0,\n          0.4901622841123046\n        ],\n        \"semantic_type\": \"\",\n        \"description\": \"\"\n      }\n    },\n    {\n      \"column\": \"CreditCard\",\n      \"properties\": {\n        \"dtype\": \"number\",\n        \"std\": 1414.0750030171573,\n        \"min\": 0.0,\n        \"max\": 4000.0,\n        \"num_unique_values\": 5,\n        \"samples\": [\n          0.2905,\n          1.0,\n          0.45404987647017436\n        ],\n        \"semantic_type\": \"\",\n        \"description\": \"\"\n      }\n    }\n  ]\n}"
      }
     },
     "metadata": {},
     "execution_count": 37
    }
   ]
  },
  {
   "cell_type": "markdown",
   "source": [
    "Набор данных содержит 14 переменных, 1 из которых является целевой.\n",
    "\n",
    "1 номинальная переменная: **ID**\n",
    "\n",
    "5 числовых переменных: **Age**, **Experience**, **Income**, **CCAvg**, **Mortgage**\n",
    "\n",
    "3 категориальные переменных: **Family**, **Education**, **ZIP Code**\n",
    "\n",
    "5 булевых переменных: **Personal Loan**, **Securities Account**, **CD Account**, **Online**, **CreditCard**\n",
    "\n",
    "Пропущенных значений нет.\n",
    "\n",
    "Experience содержит какие-то отрицательные значения"
   ],
   "metadata": {
    "id": "57sZel7LPRzB"
   }
  },
  {
   "cell_type": "markdown",
   "source": [
    "Удалите колонку ID, она нам не понадобится"
   ],
   "metadata": {
    "id": "4Wl4T4lDyKAK"
   }
  },
  {
   "cell_type": "code",
   "source": [
    "df = df.drop(columns=['ID'])"
   ],
   "metadata": {
    "id": "B3Wj00WZQiID"
   },
   "execution_count": null,
   "outputs": []
  },
  {
   "cell_type": "markdown",
   "source": [
    "Имеет смысл попробовать отловить каике-либо зависимости или их отсутствие.\n",
    "\n",
    "Постройте матрицу корреляций"
   ],
   "metadata": {
    "id": "8_S0yiCEQvbC"
   }
  },
  {
   "cell_type": "code",
   "source": [
    "corr_matrix = df.corr()"
   ],
   "metadata": {
    "id": "M_alB6kra8g3"
   },
   "execution_count": null,
   "outputs": []
  },
  {
   "cell_type": "code",
   "source": [
    "plt.figure(figsize=(12, 12))\n",
    "sns.heatmap(corr_matrix, annot=True, cmap='coolwarm')"
   ],
   "metadata": {
    "id": "JGrHybCnQ0q1",
    "colab": {
     "base_uri": "https://localhost:8080/",
     "height": 1000
    },
    "outputId": "6d26ad94-30b1-4d22-822f-5e0797854d3d"
   },
   "execution_count": null,
   "outputs": [
    {
     "output_type": "execute_result",
     "data": {
      "text/plain": [
       "<Axes: >"
      ]
     },
     "metadata": {},
     "execution_count": 40
    },
    {
     "output_type": "display_data",
     "data": {
      "text/plain": [
       "<Figure size 1200x1200 with 2 Axes>"
      ],
      "image/png": "[encoded data removed]"
     },
     "metadata": {}
    }
   ]
  },
  {
   "cell_type": "markdown",
   "source": [
    "Определите две наиболее коррелированных переменных"
   ],
   "metadata": {
    "id": "33KxJRptS_wP"
   }
  },
  {
   "cell_type": "code",
   "source": [
    "max_corr = corr_matrix.abs().where(~np.eye(len(corr_matrix), dtype=bool)).max().max()\n",
    "i, j = np.where(corr_matrix.abs() == max_corr)\n",
    "\n",
    "print(corr_matrix.index[i[0]], corr_matrix.index[j[0]], sep=', ')"
   ],
   "metadata": {
    "id": "Xo1LgkW5ysoc",
    "colab": {
     "base_uri": "https://localhost:8080/"
    },
    "outputId": "3cd70f3e-f42e-47ef-e2ec-421ea27955c6"
   },
   "execution_count": null,
   "outputs": [
    {
     "output_type": "stream",
     "name": "stdout",
     "text": [
      "Age, Experience\n"
     ]
    }
   ]
  },
  {
   "cell_type": "markdown",
   "source": [
    "Определите признак, который меньше всего коррелирует (можно считать почти не коррелирует) с остальными признаками (в том числе с откликом). Удалите этот признак из рассмотрения.\n",
    "\n",
    "Введите название удаленного признака."
   ],
   "metadata": {
    "id": "MIAngsDe2ppM"
   }
  },
  {
   "cell_type": "code",
   "source": [
    "corr_means = corr_matrix.abs().mean()\n",
    "\n",
    "print(corr_means.idxmin())"
   ],
   "metadata": {
    "id": "bqOQ1cVk27fb",
    "colab": {
     "base_uri": "https://localhost:8080/"
    },
    "outputId": "dff9d4b5-dde8-48bf-8491-b5ba3f6a1258"
   },
   "execution_count": null,
   "outputs": [
    {
     "output_type": "stream",
     "name": "stdout",
     "text": [
      "ZIP Code\n"
     ]
    }
   ]
  },
  {
   "cell_type": "code",
   "source": [
    "df = df.drop(columns=['ZIP Code'])"
   ],
   "metadata": {
    "id": "wQOkVushdalQ"
   },
   "execution_count": null,
   "outputs": []
  },
  {
   "cell_type": "markdown",
   "source": [
    "# Предварительная подготовка данных"
   ],
   "metadata": {
    "id": "1T2nmzIqTleQ"
   }
  },
  {
   "cell_type": "markdown",
   "source": [
    "## Модификация признаков"
   ],
   "metadata": {
    "id": "owfKqPFi3JRb"
   }
  },
  {
   "cell_type": "markdown",
   "source": [
    "Стоит разобраться с полем <code>Experience</code>. Видно, что опыт коррелирует с возрастом. Однако, в поле <code>Experience</code> присутствуют отрицательные значения. Имеет смысл \"сдвинуть\" значения в этой колонке. Добавьте ко всем значениям колонки <code>Experience</code> одно число так, чтобы минимальное значение было равно $0$.\n",
    "\n",
    "Вычислите выборочное среднее колонки <code>Experience</code> после преобразования."
   ],
   "metadata": {
    "id": "mKAYY8dmX2v1"
   }
  },
  {
   "cell_type": "code",
   "source": [
    "min_exp = df['Experience'].min()\n",
    "df['Experience'] = df['Experience'] + abs(min_exp)\n",
    "\n",
    "round(df['Experience'].mean(), 3)"
   ],
   "metadata": {
    "id": "HacXjLu6X_FU",
    "colab": {
     "base_uri": "https://localhost:8080/"
    },
    "outputId": "202868a7-3804-463b-b736-c3fe71101465"
   },
   "execution_count": null,
   "outputs": [
    {
     "output_type": "execute_result",
     "data": {
      "text/plain": [
       "23.196"
      ]
     },
     "metadata": {},
     "execution_count": 44
    }
   ]
  },
  {
   "cell_type": "markdown",
   "source": [
    "Аналогично имеет смысл модфицировать поле <code>CCAvg</code>. Раз рассматривается годовой доход, то имеет смысл и значения трат рассматривать в рамках года.\n",
    "\n",
    "Вычислите выборочное среднее колонки <code>CCAvg</code> после преобразования."
   ],
   "metadata": {
    "id": "0CPdKkpIb9Ko"
   }
  },
  {
   "cell_type": "code",
   "source": [
    "df['CCAvg'] = df['CCAvg'] * 12\n",
    "\n",
    "round(df['CCAvg'].mean(), 3)"
   ],
   "metadata": {
    "id": "cE_wPGDeb7_J",
    "colab": {
     "base_uri": "https://localhost:8080/"
    },
    "outputId": "5395b2e1-5f53-4a31-d2cf-3416af0e7f90"
   },
   "execution_count": null,
   "outputs": [
    {
     "output_type": "execute_result",
     "data": {
      "text/plain": [
       "23.062"
      ]
     },
     "metadata": {},
     "execution_count": 45
    }
   ]
  },
  {
   "cell_type": "markdown",
   "source": [
    "## Определение выбросов"
   ],
   "metadata": {
    "id": "sck74wTfdwXF"
   }
  },
  {
   "cell_type": "markdown",
   "source": [
    "Постройте ящики с усами для всех предикторов. Рекомендуем использовать <code>sns.boxplot()</code>. Определите признак по изображению boxplot из вашего варианта."
   ],
   "metadata": {
    "id": "_3rpqkJp3xY_"
   }
  },
  {
   "cell_type": "code",
   "source": [
    "plt.figure(figsize=(12, 8))\n",
    "sns.boxplot(df, orient=\"h\")"
   ],
   "metadata": {
    "id": "dqDNlzX3oKbT",
    "colab": {
     "base_uri": "https://localhost:8080/",
     "height": 694
    },
    "outputId": "cb061eff-e2ae-47a1-a657-0f79d6758426"
   },
   "execution_count": null,
   "outputs": [
    {
     "output_type": "execute_result",
     "data": {
      "text/plain": [
       "<Axes: >"
      ]
     },
     "metadata": {},
     "execution_count": 46
    },
    {
     "output_type": "display_data",
     "data": {
      "text/plain": [
       "<Figure size 1200x800 with 1 Axes>"
      ],
      "image/png": "[encoded data removed]"
     },
     "metadata": {}
    }
   ]
  },
  {
   "cell_type": "markdown",
   "source": [
    "Определите признак, содержащий наибольшее число выбросов. Введите название этого признака.\n"
   ],
   "metadata": {
    "id": "fv2fr5pLRU54"
   }
  },
  {
   "cell_type": "code",
   "source": [
    "# Mortgage\n",
    "out = df['Mortgage']"
   ],
   "metadata": {
    "id": "mTJhkJZyzeoy"
   },
   "execution_count": null,
   "outputs": []
  },
  {
   "cell_type": "markdown",
   "source": [
    "Имеет смысл поработать с этим признаком, а для этого стоит руководствоваться следующими статистическими соображениями. Если вычесть из данных выборочное среднее, а после поделить на среднеквадратическое отклонение, то, пользуясь правилом 3-$\\sigma$ для нормального распределения, можно выбросить слишком далекие от нуля хвосты. Постройте гистограмму распределения значений в рамках этого признака."
   ],
   "metadata": {
    "id": "3YYxjhcmzfFB"
   }
  },
  {
   "cell_type": "code",
   "source": [
    "sns.histplot(out)"
   ],
   "metadata": {
    "colab": {
     "base_uri": "https://localhost:8080/",
     "height": 467
    },
    "id": "esGheSPDlEii",
    "outputId": "e6458794-3c74-44b5-f25c-b458fece76d1"
   },
   "execution_count": null,
   "outputs": [
    {
     "output_type": "execute_result",
     "data": {
      "text/plain": [
       "<Axes: xlabel='Mortgage', ylabel='Count'>"
      ]
     },
     "metadata": {},
     "execution_count": 48
    },
    {
     "output_type": "display_data",
     "data": {
      "text/plain": [
       "<Figure size 640x480 with 1 Axes>"
      ],
      "image/png": "[encoded data removed]"
     },
     "metadata": {}
    }
   ]
  },
  {
   "cell_type": "code",
   "source": [
    "out = out - out.mean()\n",
    "out = out  / out.std()"
   ],
   "metadata": {
    "id": "UP5XcP6skLLO"
   },
   "execution_count": null,
   "outputs": []
  },
  {
   "cell_type": "code",
   "source": [
    "sns.histplot(out)"
   ],
   "metadata": {
    "id": "5dHRr6YD0U5U",
    "colab": {
     "base_uri": "https://localhost:8080/",
     "height": 467
    },
    "outputId": "659e6f52-0757-4914-c0e0-d408ecd5afc4"
   },
   "execution_count": null,
   "outputs": [
    {
     "output_type": "execute_result",
     "data": {
      "text/plain": [
       "<Axes: xlabel='Mortgage', ylabel='Count'>"
      ]
     },
     "metadata": {},
     "execution_count": 50
    },
    {
     "output_type": "display_data",
     "data": {
      "text/plain": [
       "<Figure size 640x480 with 1 Axes>"
      ],
      "image/png": "[encoded data removed]"
     },
     "metadata": {}
    }
   ]
  },
  {
   "cell_type": "markdown",
   "source": [
    "Очевидно в рамках этого признака есть небольшое количество значений, которые лежат далеко. Можно использовать <a href=\"https://docs.scipy.org/doc/scipy/reference/generated/scipy.stats.zscore.html\"><code>z-score</code></a> функцию из библиотеки <code>scipy</code>.\n",
    "\n",
    "Вспомнив курс теории вероятностей, становится понятно, что около $99.7\\%$ нормального распределения сождержатся в отрезке $[-3\\sigma, 3\\sigma]$. Определите число элементов, модуль <code>z-score</code> которых больше, чем $3$."
   ],
   "metadata": {
    "id": "A1PjJGciS0JL"
   }
  },
  {
   "cell_type": "code",
   "source": [
    "zscores = zscore(out.values)\n",
    "np.sum(zscores > 3)"
   ],
   "metadata": {
    "id": "IAqVmGrDRq7J",
    "colab": {
     "base_uri": "https://localhost:8080/"
    },
    "outputId": "228e1a3f-7e56-4149-bce8-6dfd88ef8d3c"
   },
   "execution_count": null,
   "outputs": [
    {
     "output_type": "execute_result",
     "data": {
      "text/plain": [
       "83"
      ]
     },
     "metadata": {},
     "execution_count": 51
    }
   ]
  },
  {
   "cell_type": "markdown",
   "source": [
    "Итак, выбросов не очень множко, поэтому выбросите их из набора данных. Введите оставшееся в датасете число строк."
   ],
   "metadata": {
    "id": "tUhbuuVkmG44"
   }
  },
  {
   "cell_type": "code",
   "source": [
    "index = np.where(zscores > 3)[0]\n",
    "\n",
    "df = df.drop(df.index[index])"
   ],
   "metadata": {
    "id": "BWLLchbGmKyx"
   },
   "execution_count": null,
   "outputs": []
  },
  {
   "cell_type": "code",
   "source": [
    "len(df)"
   ],
   "metadata": {
    "id": "7P8iYML3727A",
    "outputId": "750d39e7-44ed-4da4-a92c-6f4e1ec14f8a",
    "colab": {
     "base_uri": "https://localhost:8080/"
    }
   },
   "execution_count": null,
   "outputs": [
    {
     "output_type": "execute_result",
     "data": {
      "text/plain": [
       "3917"
      ]
     },
     "metadata": {},
     "execution_count": 53
    }
   ]
  },
  {
   "cell_type": "markdown",
   "source": [
    "# Построение моделей"
   ],
   "metadata": {
    "id": "hMJ3LQA62_z7"
   }
  },
  {
   "cell_type": "markdown",
   "source": [
    "# Базовый алгоритм"
   ],
   "metadata": {
    "id": "YraRCGS33aCP"
   }
  },
  {
   "cell_type": "markdown",
   "source": [
    "При помощи <code>train_test_split</code> разобейте полученный набор данных на тренеровочную и тестовую выборки с параметрами, указанными в вашем варианте."
   ],
   "metadata": {
    "id": "-tN2AKL6myfS"
   }
  },
  {
   "cell_type": "code",
   "source": [
    "X_train, X_test, y_train, y_test = train_test_split(df.drop(columns=['Personal Loan']),\n",
    "                                                    df['Personal Loan'], test_size=0.2,\n",
    "                                                    random_state=29, stratify=df['Personal Loan'])"
   ],
   "metadata": {
    "id": "y1YG3JZ9oDMI"
   },
   "execution_count": null,
   "outputs": []
  },
  {
   "cell_type": "markdown",
   "source": [
    "Обучите модель <code>DecisionTreeClassifier</code> с параметрами, указанными в вашем варианте на тренировочных данных, оцените на тестовых. Вычислите <code>f1_score</code> модели на тестовых данных."
   ],
   "metadata": {
    "id": "0NyWOkh13iNC"
   }
  },
  {
   "cell_type": "code",
   "source": [
    "tree = DecisionTreeClassifier(random_state=29, criterion='gini')\n",
    "tree.fit(X_train, y_train)"
   ],
   "metadata": {
    "id": "BJNg02bbaJj2",
    "colab": {
     "base_uri": "https://localhost:8080/",
     "height": 75
    },
    "outputId": "6416ed26-8309-4ee4-ab97-f3c411404fa3"
   },
   "execution_count": null,
   "outputs": [
    {
     "output_type": "execute_result",
     "data": {
      "text/plain": [
       "DecisionTreeClassifier(random_state=29)"
      ],
      "text/html": [
       "<style>#sk-container-id-2 {color: black;background-color: white;}#sk-container-id-2 pre{padding: 0;}#sk-container-id-2 div.sk-toggleable {background-color: white;}#sk-container-id-2 label.sk-toggleable__label {cursor: pointer;display: block;width: 100%;margin-bottom: 0;padding: 0.3em;box-sizing: border-box;text-align: center;}#sk-container-id-2 label.sk-toggleable__label-arrow:before {content: \"▸\";float: left;margin-right: 0.25em;color: #696969;}#sk-container-id-2 label.sk-toggleable__label-arrow:hover:before {color: black;}#sk-container-id-2 div.sk-estimator:hover label.sk-toggleable__label-arrow:before {color: black;}#sk-container-id-2 div.sk-toggleable__content {max-height: 0;max-width: 0;overflow: hidden;text-align: left;background-color: #f0f8ff;}#sk-container-id-2 div.sk-toggleable__content pre {margin: 0.2em;color: black;border-radius: 0.25em;background-color: #f0f8ff;}#sk-container-id-2 input.sk-toggleable__control:checked~div.sk-toggleable__content {max-height: 200px;max-width: 100%;overflow: auto;}#sk-container-id-2 input.sk-toggleable__control:checked~label.sk-toggleable__label-arrow:before {content: \"▾\";}#sk-container-id-2 div.sk-estimator input.sk-toggleable__control:checked~label.sk-toggleable__label {background-color: #d4ebff;}#sk-container-id-2 div.sk-label input.sk-toggleable__control:checked~label.sk-toggleable__label {background-color: #d4ebff;}#sk-container-id-2 input.sk-hidden--visually {border: 0;clip: rect(1px 1px 1px 1px);clip: rect(1px, 1px, 1px, 1px);height: 1px;margin: -1px;overflow: hidden;padding: 0;position: absolute;width: 1px;}#sk-container-id-2 div.sk-estimator {font-family: monospace;background-color: #f0f8ff;border: 1px dotted black;border-radius: 0.25em;box-sizing: border-box;margin-bottom: 0.5em;}#sk-container-id-2 div.sk-estimator:hover {background-color: #d4ebff;}#sk-container-id-2 div.sk-parallel-item::after {content: \"\";width: 100%;border-bottom: 1px solid gray;flex-grow: 1;}#sk-container-id-2 div.sk-label:hover label.sk-toggleable__label {background-color: #d4ebff;}#sk-container-id-2 div.sk-serial::before {content: \"\";position: absolute;border-left: 1px solid gray;box-sizing: border-box;top: 0;bottom: 0;left: 50%;z-index: 0;}#sk-container-id-2 div.sk-serial {display: flex;flex-direction: column;align-items: center;background-color: white;padding-right: 0.2em;padding-left: 0.2em;position: relative;}#sk-container-id-2 div.sk-item {position: relative;z-index: 1;}#sk-container-id-2 div.sk-parallel {display: flex;align-items: stretch;justify-content: center;background-color: white;position: relative;}#sk-container-id-2 div.sk-item::before, #sk-container-id-2 div.sk-parallel-item::before {content: \"\";position: absolute;border-left: 1px solid gray;box-sizing: border-box;top: 0;bottom: 0;left: 50%;z-index: -1;}#sk-container-id-2 div.sk-parallel-item {display: flex;flex-direction: column;z-index: 1;position: relative;background-color: white;}#sk-container-id-2 div.sk-parallel-item:first-child::after {align-self: flex-end;width: 50%;}#sk-container-id-2 div.sk-parallel-item:last-child::after {align-self: flex-start;width: 50%;}#sk-container-id-2 div.sk-parallel-item:only-child::after {width: 0;}#sk-container-id-2 div.sk-dashed-wrapped {border: 1px dashed gray;margin: 0 0.4em 0.5em 0.4em;box-sizing: border-box;padding-bottom: 0.4em;background-color: white;}#sk-container-id-2 div.sk-label label {font-family: monospace;font-weight: bold;display: inline-block;line-height: 1.2em;}#sk-container-id-2 div.sk-label-container {text-align: center;}#sk-container-id-2 div.sk-container {/* jupyter's `normalize.less` sets `[hidden] { display: none; }` but bootstrap.min.css set `[hidden] { display: none !important; }` so we also need the `!important` here to be able to override the default hidden behavior on the sphinx rendered scikit-learn.org. See: https://github.com/scikit-learn/scikit-learn/issues/21755 */display: inline-block !important;position: relative;}#sk-container-id-2 div.sk-text-repr-fallback {display: none;}</style><div id=\"sk-container-id-2\" class=\"sk-top-container\"><div class=\"sk-text-repr-fallback\"><pre>DecisionTreeClassifier(random_state=29)</pre><b>In a Jupyter environment, please rerun this cell to show the HTML representation or trust the notebook. <br />On GitHub, the HTML representation is unable to render, please try loading this page with nbviewer.org.</b></div><div class=\"sk-container\" hidden><div class=\"sk-item\"><div class=\"sk-estimator sk-toggleable\"><input class=\"sk-toggleable__control sk-hidden--visually\" id=\"sk-estimator-id-2\" type=\"checkbox\" checked><label for=\"sk-estimator-id-2\" class=\"sk-toggleable__label sk-toggleable__label-arrow\">DecisionTreeClassifier</label><div class=\"sk-toggleable__content\"><pre>DecisionTreeClassifier(random_state=29)</pre></div></div></div></div></div>"
      ]
     },
     "metadata": {},
     "execution_count": 55
    }
   ]
  },
  {
   "cell_type": "code",
   "source": [
    "prediction = tree.predict(X_test)\n",
    "\n",
    "round(f1_score(y_test, prediction), 3)"
   ],
   "metadata": {
    "colab": {
     "base_uri": "https://localhost:8080/"
    },
    "id": "FJHL21iYp9n8",
    "outputId": "77aae20d-a012-4f30-ae9d-d9e9a36da177"
   },
   "execution_count": null,
   "outputs": [
    {
     "output_type": "execute_result",
     "data": {
      "text/plain": [
       "0.868"
      ]
     },
     "metadata": {},
     "execution_count": 56
    }
   ]
  },
  {
   "cell_type": "code",
   "source": [
    "tree = DecisionTreeClassifier(random_state=29, criterion='entropy')\n",
    "tree.fit(X_train, y_train)\n",
    "prediction = tree.predict(X_test)\n",
    "\n",
    "round(f1_score(y_test, prediction), 3)"
   ],
   "metadata": {
    "colab": {
     "base_uri": "https://localhost:8080/"
    },
    "id": "xeumeVtwq4kz",
    "outputId": "0659fc36-dd46-4a44-97ee-6c3bf73ca3f8"
   },
   "execution_count": null,
   "outputs": [
    {
     "output_type": "execute_result",
     "data": {
      "text/plain": [
       "0.833"
      ]
     },
     "metadata": {},
     "execution_count": 57
    }
   ]
  },
  {
   "cell_type": "markdown",
   "source": [
    "## Учет дисбаланса соотношения классов"
   ],
   "metadata": {
    "id": "nz9iFfBK4KhL"
   }
  },
  {
   "cell_type": "markdown",
   "source": [
    "А теперь, если вспомнить, что выборка несбалансирована, то можно указать дополнительный параметр <code>class_weight</code>. Обучите модель <code>DecisionTreeClassifier</code> с параметрами, указанными в вашем варианте на тренировочных данных, оцените на тестовых. Вычислите <code>f1_score</code> модели на тестовых данных."
   ],
   "metadata": {
    "id": "3x7OGwQwa8V6"
   }
  },
  {
   "cell_type": "code",
   "source": [
    "tree = DecisionTreeClassifier(random_state=29, criterion='gini', class_weight='balanced')\n",
    "tree.fit(X_train, y_train)\n",
    "prediction = tree.predict(X_test)\n",
    "\n",
    "round(f1_score(y_test, prediction), 3)"
   ],
   "metadata": {
    "colab": {
     "base_uri": "https://localhost:8080/"
    },
    "id": "Y0oI_cQqrT_s",
    "outputId": "30ac29ae-266a-4dee-a4d5-bf89802b9b6f"
   },
   "execution_count": null,
   "outputs": [
    {
     "output_type": "execute_result",
     "data": {
      "text/plain": [
       "0.872"
      ]
     },
     "metadata": {},
     "execution_count": 58
    }
   ]
  },
  {
   "cell_type": "code",
   "source": [
    "tree = DecisionTreeClassifier(random_state=29, criterion='entropy', class_weight='balanced')\n",
    "tree.fit(X_train, y_train)\n",
    "prediction = tree.predict(X_test)\n",
    "\n",
    "round(f1_score(y_test, prediction), 3)"
   ],
   "metadata": {
    "id": "gug5fOXAbMC6",
    "colab": {
     "base_uri": "https://localhost:8080/"
    },
    "outputId": "fa3feba1-7176-4618-c283-2d5c356ae036"
   },
   "execution_count": null,
   "outputs": [
    {
     "output_type": "execute_result",
     "data": {
      "text/plain": [
       "0.815"
      ]
     },
     "metadata": {},
     "execution_count": 59
    }
   ]
  },
  {
   "cell_type": "markdown",
   "source": [
    "## Upsampling обучающей выборки"
   ],
   "metadata": {
    "id": "8UgBmYo44pDE"
   }
  },
  {
   "cell_type": "markdown",
   "source": [
    "Помимо очевидного присвоения весов несбалансированным классам, можно воспользоваться алгоритмом <code>SMOTE</code>. Ему на вход подаются экземпляры всех классов с их метками, а он в свою очередь пытается на их основе экстраполировать само распределение данных этого класса. После этого он сэмплирует новые объекты классов так, пока количество строк каждого класса не станет везде одинаковым.\n",
    "\n",
    "Получается, что в таком случае будет получена сбалансированная выборка, и пропадет нужда как-то ухищряться с весами и прочим.\n",
    "\n",
    "Определите долю элементов класса $0$ тренировочного набора данных."
   ],
   "metadata": {
    "id": "r5SQS_D0baaQ"
   }
  },
  {
   "cell_type": "code",
   "source": [
    "round(np.sum(y_train == 0) / len(y_train), 3)"
   ],
   "metadata": {
    "id": "nOv98H3_ei8Z",
    "colab": {
     "base_uri": "https://localhost:8080/"
    },
    "outputId": "2759cc31-3442-4086-ea1e-144ce7568a71"
   },
   "execution_count": null,
   "outputs": [
    {
     "output_type": "execute_result",
     "data": {
      "text/plain": [
       "0.911"
      ]
     },
     "metadata": {},
     "execution_count": 60
    }
   ]
  },
  {
   "cell_type": "markdown",
   "source": [
    "Используя класс <a href=\"https://imbalanced-learn.org/stable/references/generated/imblearn.over_sampling.SMOTE.html\"><code>SMOTE</code></a> из модуля <code>imblearn.over_sampling</code> сбалансируйте обучающую выборку с параметрами, указанными в вашем варианте."
   ],
   "metadata": {
    "id": "DUrm8j5R6-dq"
   }
  },
  {
   "cell_type": "code",
   "source": [
    "sm = SMOTE(random_state=29)\n",
    "X_train, y_train = sm.fit_resample(X_train, y_train)"
   ],
   "metadata": {
    "id": "YWr1Mll1eYcd"
   },
   "execution_count": null,
   "outputs": []
  },
  {
   "cell_type": "markdown",
   "source": [
    "Убедитесь, что теперь в выборке содержится одинаковое число представителей обоих классов. Введите количество объектов класса $1$."
   ],
   "metadata": {
    "id": "4xd6pDvt9Yxj"
   }
  },
  {
   "cell_type": "code",
   "source": [
    "np.sum(y_train == 0) / len(y_train)"
   ],
   "metadata": {
    "colab": {
     "base_uri": "https://localhost:8080/"
    },
    "id": "fDimPvzHzsoF",
    "outputId": "72cba5bc-e79c-4a84-dc1e-f86a0c293dde"
   },
   "execution_count": null,
   "outputs": [
    {
     "output_type": "execute_result",
     "data": {
      "text/plain": [
       "0.5"
      ]
     },
     "metadata": {},
     "execution_count": 62
    }
   ]
  },
  {
   "cell_type": "code",
   "source": [
    "np.count_nonzero(y_train == 1)"
   ],
   "metadata": {
    "id": "lASmMyIee9FB",
    "colab": {
     "base_uri": "https://localhost:8080/"
    },
    "outputId": "77d85521-93fc-46a7-f4d8-8163280d21ff"
   },
   "execution_count": null,
   "outputs": [
    {
     "output_type": "execute_result",
     "data": {
      "text/plain": [
       "2855"
      ]
     },
     "metadata": {},
     "execution_count": 63
    }
   ]
  },
  {
   "cell_type": "markdown",
   "source": [
    "Снова обучите модель <code>DecisionTreeClassifier</code> с параметрами, указанными в вашем варианте на тренировочных данных, оцените на тестовых. Вычислите <code>f1_score</code> модели на тестовых данных."
   ],
   "metadata": {
    "id": "-7M3ua0zfCl5"
   }
  },
  {
   "cell_type": "code",
   "source": [
    "tree = DecisionTreeClassifier(random_state=29, criterion='gini')\n",
    "tree.fit(X_train, y_train)\n",
    "prediction = tree.predict(X_test)\n",
    "\n",
    "round(f1_score(y_test, prediction), 3)"
   ],
   "metadata": {
    "id": "3J1YZg6ufFxo",
    "colab": {
     "base_uri": "https://localhost:8080/"
    },
    "outputId": "ea8270ef-df90-4924-f840-ac799b82d701"
   },
   "execution_count": null,
   "outputs": [
    {
     "output_type": "execute_result",
     "data": {
      "text/plain": [
       "0.726"
      ]
     },
     "metadata": {},
     "execution_count": 64
    }
   ]
  },
  {
   "cell_type": "code",
   "source": [
    "tree = DecisionTreeClassifier(random_state=29, criterion='entropy')\n",
    "tree.fit(X_train, y_train)\n",
    "prediction = tree.predict(X_test)\n",
    "\n",
    "round(f1_score(y_test, prediction), 3)"
   ],
   "metadata": {
    "colab": {
     "base_uri": "https://localhost:8080/"
    },
    "id": "GABMB1t_0GMA",
    "outputId": "4330b159-a789-4bf0-8e69-a159a3d5483c"
   },
   "execution_count": null,
   "outputs": [
    {
     "output_type": "execute_result",
     "data": {
      "text/plain": [
       "0.733"
      ]
     },
     "metadata": {},
     "execution_count": 65
    }
   ]
  }
 ]
}
