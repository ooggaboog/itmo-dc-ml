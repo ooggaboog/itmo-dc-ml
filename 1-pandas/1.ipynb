{
 "cells": [
  {
   "metadata": {
    "ExecuteTime": {
     "end_time": "2024-08-17T09:44:18.857297Z",
     "start_time": "2024-08-17T09:44:18.846334Z"
    }
   },
   "cell_type": "code",
   "source": "import pandas as pd",
   "id": "e1fb19278022ea6b",
   "outputs": [],
   "execution_count": 4
  },
  {
   "metadata": {
    "ExecuteTime": {
     "end_time": "2024-08-17T09:44:18.896544Z",
     "start_time": "2024-08-17T09:44:18.861232Z"
    }
   },
   "cell_type": "code",
   "source": [
    "# считываем csv-файл, за индекс принимаем cтолбец 'region_name'\n",
    "salary = pd.read_csv('1-data.csv', index_col='region_name')\n",
    "# удаляем регионы по заданию\n",
    "salary = salary.drop(['Республика Башкортостан', 'Ханты-Мансийский АО (Югра)', 'Оренбургская область'])\n",
    "# сортируем по возрастанию зарплаты\n",
    "salary = salary.sort_values('salary')\n",
    "salary.reset_index(drop=False, inplace=True) # изменение index column на нумерацию по умолчанию\n",
    "salary.index += 1 # начать нумерацию с 1\n",
    "salary"
   ],
   "id": "8b1a81450b271f6c",
   "outputs": [
    {
     "data": {
      "text/plain": [
       "                        region_name  salary\n",
       "1               Республика Дагестан   24550\n",
       "2   Кабардино-Балкарская Республика   25318\n",
       "3              Республика Ингушетия   25663\n",
       "4   Карачаево-Черкесская Республика   25699\n",
       "5               Республика Калмыкия   25719\n",
       "..                              ...     ...\n",
       "78                      Ненецкий АО   77277\n",
       "79                        г. Москва   78946\n",
       "80                Ямало-Ненецкий АО   86560\n",
       "81                     Чукотский АО   96930\n",
       "82                 Магаданская обл.  101662\n",
       "\n",
       "[82 rows x 2 columns]"
      ],
      "text/html": [
       "<div>\n",
       "<style scoped>\n",
       "    .dataframe tbody tr th:only-of-type {\n",
       "        vertical-align: middle;\n",
       "    }\n",
       "\n",
       "    .dataframe tbody tr th {\n",
       "        vertical-align: top;\n",
       "    }\n",
       "\n",
       "    .dataframe thead th {\n",
       "        text-align: right;\n",
       "    }\n",
       "</style>\n",
       "<table border=\"1\" class=\"dataframe\">\n",
       "  <thead>\n",
       "    <tr style=\"text-align: right;\">\n",
       "      <th></th>\n",
       "      <th>region_name</th>\n",
       "      <th>salary</th>\n",
       "    </tr>\n",
       "  </thead>\n",
       "  <tbody>\n",
       "    <tr>\n",
       "      <th>1</th>\n",
       "      <td>Республика Дагестан</td>\n",
       "      <td>24550</td>\n",
       "    </tr>\n",
       "    <tr>\n",
       "      <th>2</th>\n",
       "      <td>Кабардино-Балкарская Республика</td>\n",
       "      <td>25318</td>\n",
       "    </tr>\n",
       "    <tr>\n",
       "      <th>3</th>\n",
       "      <td>Республика Ингушетия</td>\n",
       "      <td>25663</td>\n",
       "    </tr>\n",
       "    <tr>\n",
       "      <th>4</th>\n",
       "      <td>Карачаево-Черкесская Республика</td>\n",
       "      <td>25699</td>\n",
       "    </tr>\n",
       "    <tr>\n",
       "      <th>5</th>\n",
       "      <td>Республика Калмыкия</td>\n",
       "      <td>25719</td>\n",
       "    </tr>\n",
       "    <tr>\n",
       "      <th>...</th>\n",
       "      <td>...</td>\n",
       "      <td>...</td>\n",
       "    </tr>\n",
       "    <tr>\n",
       "      <th>78</th>\n",
       "      <td>Ненецкий АО</td>\n",
       "      <td>77277</td>\n",
       "    </tr>\n",
       "    <tr>\n",
       "      <th>79</th>\n",
       "      <td>г. Москва</td>\n",
       "      <td>78946</td>\n",
       "    </tr>\n",
       "    <tr>\n",
       "      <th>80</th>\n",
       "      <td>Ямало-Ненецкий АО</td>\n",
       "      <td>86560</td>\n",
       "    </tr>\n",
       "    <tr>\n",
       "      <th>81</th>\n",
       "      <td>Чукотский АО</td>\n",
       "      <td>96930</td>\n",
       "    </tr>\n",
       "    <tr>\n",
       "      <th>82</th>\n",
       "      <td>Магаданская обл.</td>\n",
       "      <td>101662</td>\n",
       "    </tr>\n",
       "  </tbody>\n",
       "</table>\n",
       "<p>82 rows × 2 columns</p>\n",
       "</div>"
      ]
     },
     "execution_count": 5,
     "metadata": {},
     "output_type": "execute_result"
    }
   ],
   "execution_count": 5
  },
  {
   "metadata": {
    "ExecuteTime": {
     "end_time": "2024-08-17T09:44:18.959149Z",
     "start_time": "2024-08-17T09:44:18.951848Z"
    }
   },
   "cell_type": "code",
   "source": "print(salary.loc[[15, 41, 47]]) # отобразить значения по индексу",
   "id": "311bdb9af723c2a7",
   "outputs": [
    {
     "name": "stdout",
     "output_type": "stream",
     "text": [
      "                region_name  salary\n",
      "15        Псковская область   27339\n",
      "41  Калининградская область   32473\n",
      "47            Пермский край   34809\n"
     ]
    }
   ],
   "execution_count": 6
  },
  {
   "metadata": {
    "ExecuteTime": {
     "end_time": "2024-08-17T09:44:18.983390Z",
     "start_time": "2024-08-17T09:44:18.974939Z"
    }
   },
   "cell_type": "code",
   "source": "round(salary['salary'].mean(), 2) # средняя зарплата",
   "id": "2df68ddc811b784e",
   "outputs": [
    {
     "data": {
      "text/plain": [
       "38720.96"
      ]
     },
     "execution_count": 7,
     "metadata": {},
     "output_type": "execute_result"
    }
   ],
   "execution_count": 7
  },
  {
   "metadata": {
    "ExecuteTime": {
     "end_time": "2024-08-17T09:44:19.043638Z",
     "start_time": "2024-08-17T09:44:19.037250Z"
    }
   },
   "cell_type": "code",
   "source": "round(salary['salary'].median(), 2) # медианная зарплата",
   "id": "dc6124f4180ec67e",
   "outputs": [
    {
     "data": {
      "text/plain": [
       "32723.0"
      ]
     },
     "execution_count": 8,
     "metadata": {},
     "output_type": "execute_result"
    }
   ],
   "execution_count": 8
  }
 ],
 "metadata": {
  "kernelspec": {
   "display_name": "Python 3",
   "language": "python",
   "name": "python3"
  },
  "language_info": {
   "codemirror_mode": {
    "name": "ipython",
    "version": 2
   },
   "file_extension": ".py",
   "mimetype": "text/x-python",
   "name": "python",
   "nbconvert_exporter": "python",
   "pygments_lexer": "ipython2",
   "version": "2.7.6"
  }
 },
 "nbformat": 4,
 "nbformat_minor": 5
}
