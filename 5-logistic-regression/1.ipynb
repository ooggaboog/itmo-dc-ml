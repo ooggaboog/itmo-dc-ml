{
 "nbformat": 4,
 "nbformat_minor": 0,
 "metadata": {
  "colab": {
   "provenance": []
  },
  "kernelspec": {
   "name": "python3",
   "display_name": "Python 3 (ipykernel)",
   "language": "python"
  },
  "language_info": {
   "name": "python"
  }
 },
 "cells": [
  {
   "cell_type": "markdown",
   "source": [
    "# Применение логистической регрессии для решения задачи классификации"
   ],
   "metadata": {
    "id": "S2Zv-8wrSmbU"
   }
  },
  {
   "cell_type": "markdown",
   "source": [
    "# Описание набора данных"
   ],
   "metadata": {
    "id": "Fsaq3T7JS9Ox"
   }
  },
  {
   "cell_type": "markdown",
   "source": [
    "Данный набор содержит информацию о пассажирах корабля «Титаник», затонувшего в ночь на 15-е апреля 1912 года. Некоторое количество пассажиров спаслось, чему способствовало множество различных факторов, включая их пол, возраст, на какой палубе находилась их кабина, социальный статус, и т.д.\n",
    "\n",
    "Набор данных состоит из различных признаков, описывающих информацию о пассажирах. Каждая строка таблицы — отдельный пассажир, вся информация о нем содержится в его строке.\n",
    "\n",
    "Описание датасета:\n",
    "- **Survived** (целевой признак): выжил ли пассажир (0 = Нет, 1 = Да);\n",
    "- **Pclass**: класс каюты (1 = 1st, 2 = 2nd, 3 = 3rd);\n",
    "- **Sex**: пол (female или male)\n",
    "- **Age**: возраст в годах\n",
    "- **SibSp**: количество братьев, сестёр (в том числе сводных) и супругов на борту\n",
    "- **Parch**: количество детей и родителей на борту\n",
    "- **Ticket**: номер билета\n",
    "- **Fare**: стоимость проезда пассажира\n",
    "- **Cabin**: номер каюты\n",
    "- **Embarked**: порт посадки пассажира (C = Cherbourg, Q = Queenstown, S = Southampton).\n",
    "\n",
    "Необходимо решить задачу классификации и научиться предсказывать целовой признак **Survived** — выживет ли пассажир — по соответсвующим ему нецелевым признакам.\n"
   ],
   "metadata": {
    "id": "ekwIM8kmTAx5"
   }
  },
  {
   "cell_type": "markdown",
   "source": [
    "# Подготовка и первичный анализ данных"
   ],
   "metadata": {
    "id": "SjI-Ub1GYbKX"
   }
  },
  {
   "cell_type": "code",
   "source": [
    "import numpy as np\n",
    "import pandas as pd\n",
    "import matplotlib.pyplot as plt\n",
    "import seaborn as sns\n",
    "from sklearn.linear_model import LogisticRegression\n",
    "from sklearn.metrics import f1_score\n",
    "from sklearn.metrics import classification_report"
   ],
   "metadata": {
    "id": "a_MzT3cKTuR9",
    "ExecuteTime": {
     "end_time": "2024-08-03T15:01:24.353486Z",
     "start_time": "2024-08-03T15:01:23.485513Z"
    }
   },
   "outputs": [],
   "execution_count": 1
  },
  {
   "cell_type": "markdown",
   "source": [
    "Установите количество пропущенных значений поля <code>age</code>:"
   ],
   "metadata": {
    "id": "KY4ZYwUuUNwx"
   }
  },
  {
   "cell_type": "code",
   "source": "df = pd.read_csv('https://courses.openedu.ru/assets/courseware/v1/8baa546c1c38f02f9ef2c11333112e89/asset-v1:ITMOUniversity+MLDATAN+spring_2024_ITMO_bac+type@asset+block/titanic_train.csv')",
   "metadata": {
    "id": "Ii5ITpGJUShn",
    "ExecuteTime": {
     "end_time": "2024-08-03T15:01:24.391592Z",
     "start_time": "2024-08-03T15:01:24.355330Z"
    }
   },
   "outputs": [],
   "execution_count": 2
  },
  {
   "cell_type": "code",
   "source": [
    "df.age.isna().sum()"
   ],
   "metadata": {
    "colab": {
     "base_uri": "https://localhost:8080/"
    },
    "id": "dkjJ2jKIgwha",
    "outputId": "27512dac-5d7b-4fa9-e6fe-aa9528b48032",
    "ExecuteTime": {
     "end_time": "2024-08-03T15:01:24.424613Z",
     "start_time": "2024-08-03T15:01:24.395416Z"
    }
   },
   "outputs": [
    {
     "data": {
      "text/plain": [
       "199"
      ]
     },
     "execution_count": 3,
     "metadata": {},
     "output_type": "execute_result"
    }
   ],
   "execution_count": 3
  },
  {
   "cell_type": "markdown",
   "source": [
    "\n",
    "\n",
    "\n",
    "---\n",
    "\n",
    "\n",
    "> **199** NaN в age\n",
    "\n",
    "\n",
    "\n",
    "---\n",
    "\n"
   ],
   "metadata": {
    "id": "AlVcA6PkhuFG"
   }
  },
  {
   "cell_type": "markdown",
   "source": [
    "Определите долю выживших"
   ],
   "metadata": {
    "id": "gOqnpfJkU6Ll"
   }
  },
  {
   "cell_type": "code",
   "source": [
    "df.survived.value_counts(normalize=True)[1]"
   ],
   "metadata": {
    "id": "dHdTN-odVAIb",
    "colab": {
     "base_uri": "https://localhost:8080/"
    },
    "outputId": "59e5c909-8f7d-4cfd-b8b6-1574bb51f825",
    "ExecuteTime": {
     "end_time": "2024-08-03T15:01:24.459888Z",
     "start_time": "2024-08-03T15:01:24.426140Z"
    }
   },
   "outputs": [
    {
     "data": {
      "text/plain": [
       "0.382262996941896"
      ]
     },
     "execution_count": 4,
     "metadata": {},
     "output_type": "execute_result"
    }
   ],
   "execution_count": 4
  },
  {
   "cell_type": "markdown",
   "source": [
    "\n",
    "\n",
    "\n",
    "---\n",
    "\n",
    "\n",
    "> **0.382** доля выживших\n",
    "\n",
    "\n",
    "\n",
    "---\n",
    "\n"
   ],
   "metadata": {
    "id": "l90HJi4tifsB"
   }
  },
  {
   "cell_type": "markdown",
   "source": [
    "Определите долю пропущенных значений в рамках каждого признака и избавьтесь от тех признаков, где доля пропусков больше трети. Также удалите колонку <code>ticket</code>, вряд ли эта информация будет полезной."
   ],
   "metadata": {
    "id": "MJS0wozuVoWt"
   }
  },
  {
   "cell_type": "code",
   "source": [
    "df.isna().sum()"
   ],
   "metadata": {
    "id": "43ptqUREVz-t",
    "colab": {
     "base_uri": "https://localhost:8080/"
    },
    "outputId": "4c5ec1fa-ec46-4a5f-a57e-7c6de570c922",
    "ExecuteTime": {
     "end_time": "2024-08-03T15:01:24.471389Z",
     "start_time": "2024-08-03T15:01:24.461774Z"
    }
   },
   "outputs": [
    {
     "data": {
      "text/plain": [
       "pclass         0\n",
       "survived       0\n",
       "name           0\n",
       "sex            0\n",
       "age          199\n",
       "sibsp          0\n",
       "parch          0\n",
       "ticket         0\n",
       "fare           0\n",
       "cabin        769\n",
       "embarked       0\n",
       "home.dest    414\n",
       "dtype: int64"
      ]
     },
     "execution_count": 5,
     "metadata": {},
     "output_type": "execute_result"
    }
   ],
   "execution_count": 5
  },
  {
   "cell_type": "code",
   "source": [
    "len(df) / 3"
   ],
   "metadata": {
    "colab": {
     "base_uri": "https://localhost:8080/"
    },
    "id": "5NjO9d0WjMFs",
    "outputId": "ebd61c75-213c-44d4-bba3-03b8d619272f",
    "ExecuteTime": {
     "end_time": "2024-08-03T15:01:24.479248Z",
     "start_time": "2024-08-03T15:01:24.473200Z"
    }
   },
   "outputs": [
    {
     "data": {
      "text/plain": [
       "327.0"
      ]
     },
     "execution_count": 6,
     "metadata": {},
     "output_type": "execute_result"
    }
   ],
   "execution_count": 6
  },
  {
   "cell_type": "code",
   "source": [
    "df = df.drop(columns=['cabin', 'home.dest', 'ticket'])"
   ],
   "metadata": {
    "id": "FeCaV6kXjiaA",
    "ExecuteTime": {
     "end_time": "2024-08-03T15:01:24.509072Z",
     "start_time": "2024-08-03T15:01:24.481343Z"
    }
   },
   "outputs": [],
   "execution_count": 7
  },
  {
   "cell_type": "markdown",
   "source": [
    "Из описания набора данных видно, что колонки <code>sibsp</code> и <code>parch</code> по сути отвечают за размер семьи. Замените эти две колонки на колонку <code>fam_size</code>, значения которой будут вычисляться как сумма соответствующих значений в колонках <code>sibsp</code> и <code>parch</code>."
   ],
   "metadata": {
    "id": "5Porb6vGmpke"
   }
  },
  {
   "cell_type": "code",
   "source": [
    "df['fam_size'] = df.sibsp + df.parch\n",
    "\n",
    "df = df.drop(columns=['sibsp', 'parch'])"
   ],
   "metadata": {
    "id": "knvpyHMrm4f-",
    "ExecuteTime": {
     "end_time": "2024-08-03T15:01:24.520059Z",
     "start_time": "2024-08-03T15:01:24.512735Z"
    }
   },
   "outputs": [],
   "execution_count": 8
  },
  {
   "cell_type": "code",
   "source": [
    "df.fam_size.mean()"
   ],
   "metadata": {
    "colab": {
     "base_uri": "https://localhost:8080/"
    },
    "id": "718A58F6k-I8",
    "outputId": "060c9b2a-fe03-4936-db5a-0c81f4edeb24",
    "ExecuteTime": {
     "end_time": "2024-08-03T15:01:24.529077Z",
     "start_time": "2024-08-03T15:01:24.522389Z"
    }
   },
   "outputs": [
    {
     "data": {
      "text/plain": [
       "0.8664627930682977"
      ]
     },
     "execution_count": 9,
     "metadata": {},
     "output_type": "execute_result"
    }
   ],
   "execution_count": 9
  },
  {
   "cell_type": "markdown",
   "source": [
    "\n",
    "\n",
    "\n",
    "---\n",
    "\n",
    "\n",
    "> **0.866** выборочное среднее колонки fam_size\n",
    "\n",
    "\n",
    "\n",
    "---\n",
    "\n"
   ],
   "metadata": {
    "id": "fzlOd4Q1lQEr"
   }
  },
  {
   "cell_type": "markdown",
   "source": [
    "Полученный датасет будем называть **исходным** (выброшенные на этом этапе признаки не нужно возвращать ни на одном из последующих этапов выполнения задания). Вычислите полученное число предикторов."
   ],
   "metadata": {
    "id": "X9Cmdl5fmyoi"
   }
  },
  {
   "cell_type": "code",
   "source": [
    "df1 = df\n",
    "\n",
    "df"
   ],
   "metadata": {
    "id": "XdpdKkEBUT52",
    "colab": {
     "base_uri": "https://localhost:8080/",
     "height": 441
    },
    "outputId": "1ca127e7-7cbc-4c9a-a555-ffadf699bd5d",
    "ExecuteTime": {
     "end_time": "2024-08-03T15:01:24.554610Z",
     "start_time": "2024-08-03T15:01:24.531810Z"
    }
   },
   "outputs": [
    {
     "data": {
      "text/plain": [
       "     pclass  survived                                             name  \\\n",
       "0         3         1                               Smyth, Miss. Julia   \n",
       "1         3         1                         Glynn, Miss. Mary Agatha   \n",
       "2         3         1  Whabee, Mrs. George Joseph (Shawneene Abi-Saab)   \n",
       "3         3         0                                  Vovk, Mr. Janko   \n",
       "4         3         0                        de Pelsmaeker, Mr. Alfons   \n",
       "..      ...       ...                                              ...   \n",
       "976       3         1                      Howard, Miss. May Elizabeth   \n",
       "977       3         1                       Dorking, Mr. Edward Arthur   \n",
       "978       2         0                     Gillespie, Mr. William Henry   \n",
       "979       3         0                           Barton, Mr. David John   \n",
       "980       1         0                     Allison, Miss. Helen Loraine   \n",
       "\n",
       "        sex   age      fare embarked  fam_size  \n",
       "0    female   NaN    7.7333        Q         0  \n",
       "1    female   NaN    7.7500        Q         0  \n",
       "2    female  38.0    7.2292        C         0  \n",
       "3      male  22.0    7.8958        S         0  \n",
       "4      male  16.0    9.5000        S         0  \n",
       "..      ...   ...       ...      ...       ...  \n",
       "976  female   NaN    8.0500        S         0  \n",
       "977    male  19.0    8.0500        S         0  \n",
       "978    male  34.0   13.0000        S         0  \n",
       "979    male  22.0    8.0500        S         0  \n",
       "980  female   2.0  151.5500        S         3  \n",
       "\n",
       "[981 rows x 8 columns]"
      ],
      "text/html": [
       "<div>\n",
       "<style scoped>\n",
       "    .dataframe tbody tr th:only-of-type {\n",
       "        vertical-align: middle;\n",
       "    }\n",
       "\n",
       "    .dataframe tbody tr th {\n",
       "        vertical-align: top;\n",
       "    }\n",
       "\n",
       "    .dataframe thead th {\n",
       "        text-align: right;\n",
       "    }\n",
       "</style>\n",
       "<table border=\"1\" class=\"dataframe\">\n",
       "  <thead>\n",
       "    <tr style=\"text-align: right;\">\n",
       "      <th></th>\n",
       "      <th>pclass</th>\n",
       "      <th>survived</th>\n",
       "      <th>name</th>\n",
       "      <th>sex</th>\n",
       "      <th>age</th>\n",
       "      <th>fare</th>\n",
       "      <th>embarked</th>\n",
       "      <th>fam_size</th>\n",
       "    </tr>\n",
       "  </thead>\n",
       "  <tbody>\n",
       "    <tr>\n",
       "      <th>0</th>\n",
       "      <td>3</td>\n",
       "      <td>1</td>\n",
       "      <td>Smyth, Miss. Julia</td>\n",
       "      <td>female</td>\n",
       "      <td>NaN</td>\n",
       "      <td>7.7333</td>\n",
       "      <td>Q</td>\n",
       "      <td>0</td>\n",
       "    </tr>\n",
       "    <tr>\n",
       "      <th>1</th>\n",
       "      <td>3</td>\n",
       "      <td>1</td>\n",
       "      <td>Glynn, Miss. Mary Agatha</td>\n",
       "      <td>female</td>\n",
       "      <td>NaN</td>\n",
       "      <td>7.7500</td>\n",
       "      <td>Q</td>\n",
       "      <td>0</td>\n",
       "    </tr>\n",
       "    <tr>\n",
       "      <th>2</th>\n",
       "      <td>3</td>\n",
       "      <td>1</td>\n",
       "      <td>Whabee, Mrs. George Joseph (Shawneene Abi-Saab)</td>\n",
       "      <td>female</td>\n",
       "      <td>38.0</td>\n",
       "      <td>7.2292</td>\n",
       "      <td>C</td>\n",
       "      <td>0</td>\n",
       "    </tr>\n",
       "    <tr>\n",
       "      <th>3</th>\n",
       "      <td>3</td>\n",
       "      <td>0</td>\n",
       "      <td>Vovk, Mr. Janko</td>\n",
       "      <td>male</td>\n",
       "      <td>22.0</td>\n",
       "      <td>7.8958</td>\n",
       "      <td>S</td>\n",
       "      <td>0</td>\n",
       "    </tr>\n",
       "    <tr>\n",
       "      <th>4</th>\n",
       "      <td>3</td>\n",
       "      <td>0</td>\n",
       "      <td>de Pelsmaeker, Mr. Alfons</td>\n",
       "      <td>male</td>\n",
       "      <td>16.0</td>\n",
       "      <td>9.5000</td>\n",
       "      <td>S</td>\n",
       "      <td>0</td>\n",
       "    </tr>\n",
       "    <tr>\n",
       "      <th>...</th>\n",
       "      <td>...</td>\n",
       "      <td>...</td>\n",
       "      <td>...</td>\n",
       "      <td>...</td>\n",
       "      <td>...</td>\n",
       "      <td>...</td>\n",
       "      <td>...</td>\n",
       "      <td>...</td>\n",
       "    </tr>\n",
       "    <tr>\n",
       "      <th>976</th>\n",
       "      <td>3</td>\n",
       "      <td>1</td>\n",
       "      <td>Howard, Miss. May Elizabeth</td>\n",
       "      <td>female</td>\n",
       "      <td>NaN</td>\n",
       "      <td>8.0500</td>\n",
       "      <td>S</td>\n",
       "      <td>0</td>\n",
       "    </tr>\n",
       "    <tr>\n",
       "      <th>977</th>\n",
       "      <td>3</td>\n",
       "      <td>1</td>\n",
       "      <td>Dorking, Mr. Edward Arthur</td>\n",
       "      <td>male</td>\n",
       "      <td>19.0</td>\n",
       "      <td>8.0500</td>\n",
       "      <td>S</td>\n",
       "      <td>0</td>\n",
       "    </tr>\n",
       "    <tr>\n",
       "      <th>978</th>\n",
       "      <td>2</td>\n",
       "      <td>0</td>\n",
       "      <td>Gillespie, Mr. William Henry</td>\n",
       "      <td>male</td>\n",
       "      <td>34.0</td>\n",
       "      <td>13.0000</td>\n",
       "      <td>S</td>\n",
       "      <td>0</td>\n",
       "    </tr>\n",
       "    <tr>\n",
       "      <th>979</th>\n",
       "      <td>3</td>\n",
       "      <td>0</td>\n",
       "      <td>Barton, Mr. David John</td>\n",
       "      <td>male</td>\n",
       "      <td>22.0</td>\n",
       "      <td>8.0500</td>\n",
       "      <td>S</td>\n",
       "      <td>0</td>\n",
       "    </tr>\n",
       "    <tr>\n",
       "      <th>980</th>\n",
       "      <td>1</td>\n",
       "      <td>0</td>\n",
       "      <td>Allison, Miss. Helen Loraine</td>\n",
       "      <td>female</td>\n",
       "      <td>2.0</td>\n",
       "      <td>151.5500</td>\n",
       "      <td>S</td>\n",
       "      <td>3</td>\n",
       "    </tr>\n",
       "  </tbody>\n",
       "</table>\n",
       "<p>981 rows × 8 columns</p>\n",
       "</div>"
      ]
     },
     "execution_count": 10,
     "metadata": {},
     "output_type": "execute_result"
    }
   ],
   "execution_count": 10
  },
  {
   "cell_type": "markdown",
   "source": [
    "\n",
    "\n",
    "> **7** предикторов (без классовой переменной survived)\n",
    "\n"
   ],
   "metadata": {
    "id": "g5KuJg9ZuXBe"
   }
  },
  {
   "cell_type": "markdown",
   "source": [
    "На основе имеющейся статистики оцените вероятность выжить если пассажир -- представитель определенной категории (указана в вашем индивидуальном задании)"
   ],
   "metadata": {
    "id": "wQOvPyj8Vx00"
   }
  },
  {
   "cell_type": "code",
   "source": [
    "df[(df.sex == 'female') & (df.pclass == 1)].survived.value_counts(normalize=True)[1]"
   ],
   "metadata": {
    "id": "hFpZp4LaeS9Q",
    "colab": {
     "base_uri": "https://localhost:8080/"
    },
    "outputId": "afb43fc0-32c3-4d67-e1cf-564d08d0b94e",
    "ExecuteTime": {
     "end_time": "2024-08-03T15:01:24.568927Z",
     "start_time": "2024-08-03T15:01:24.561098Z"
    }
   },
   "outputs": [
    {
     "data": {
      "text/plain": [
       "0.9711538461538461"
      ]
     },
     "execution_count": 11,
     "metadata": {},
     "output_type": "execute_result"
    }
   ],
   "execution_count": 11
  },
  {
   "cell_type": "markdown",
   "source": [
    "\n",
    "\n",
    "> **0.971** вероятность выжить, если пассажир женщина 1 класса\n"
   ],
   "metadata": {
    "id": "m_ohna3cyoQM"
   }
  },
  {
   "cell_type": "markdown",
   "source": [
    "Постройте гистограммы выжиших и невыживших по возрастам."
   ],
   "metadata": {
    "id": "sXxprQtFhSy4"
   }
  },
  {
   "cell_type": "code",
   "source": [
    "sns.histplot(df[df['survived'] == 1], x = 'age')\n",
    "plt.title('Выжившие')"
   ],
   "metadata": {
    "id": "K3wHT2Uzr3nb",
    "colab": {
     "base_uri": "https://localhost:8080/",
     "height": 490
    },
    "outputId": "0c438d61-c3e3-44fb-9410-48478d2b1c2b",
    "ExecuteTime": {
     "end_time": "2024-08-03T15:01:25.205964Z",
     "start_time": "2024-08-03T15:01:24.571400Z"
    }
   },
   "outputs": [
    {
     "data": {
      "text/plain": [
       "Text(0.5, 1.0, 'Выжившие')"
      ]
     },
     "execution_count": 12,
     "metadata": {},
     "output_type": "execute_result"
    },
    {
     "data": {
      "text/plain": [
       "<Figure size 640x480 with 1 Axes>"
      ],
      "image/png": "[encoded data removed]"
     },
     "metadata": {},
     "output_type": "display_data"
    }
   ],
   "execution_count": 12
  },
  {
   "cell_type": "code",
   "source": [
    "sns.histplot(df[df['survived'] == 0], x = 'age')\n",
    "plt.title('Не выжившие')"
   ],
   "metadata": {
    "colab": {
     "base_uri": "https://localhost:8080/",
     "height": 490
    },
    "id": "mA_LKhJ-z-sT",
    "outputId": "ce220482-f96c-4357-e2cc-ce85f686aa10",
    "ExecuteTime": {
     "end_time": "2024-08-03T15:01:25.768032Z",
     "start_time": "2024-08-03T15:01:25.208503Z"
    }
   },
   "outputs": [
    {
     "data": {
      "text/plain": [
       "Text(0.5, 1.0, 'Не выжившие')"
      ]
     },
     "execution_count": 13,
     "metadata": {},
     "output_type": "execute_result"
    },
    {
     "data": {
      "text/plain": [
       "<Figure size 640x480 with 1 Axes>"
      ],
      "image/png": "[encoded data removed]"
     },
     "metadata": {},
     "output_type": "display_data"
    }
   ],
   "execution_count": 13
  },
  {
   "cell_type": "markdown",
   "source": [
    "# Модель на основе числовых признаков"
   ],
   "metadata": {
    "id": "u_bO7O9v0ovG"
   }
  },
  {
   "cell_type": "markdown",
   "source": [
    "## Удаление строк с пропусками"
   ],
   "metadata": {
    "id": "VJPhFX8M38SF"
   }
  },
  {
   "cell_type": "markdown",
   "source": [
    "В качестве базовой модели имеет смысл построить модель с минимальными трудозатратами.\n",
    "\n",
    "Из исходного датасета удалите все категориальные признаки, а также строки, содержащие пропуски.\n",
    "\n",
    "При помощи <code>train_test_split()</code> разбейте набор данных на обучающую и тестовую выборки<b> с параметрами, указанными в вашем задании</b>. Используйте стратификацию по колонке <code>survived</code>.\n",
    "\n",
    "Обучите модель <code>LogisticRegression()</code> <b>с параметрами, указанными в вашем задании</b>, на тренировочных данных, оцените на тестовых.\n",
    "\n",
    "Вычислите <code>f1_score</code> модели на тестовых данных (рекомендуем использовать <a href=\"https://scikit-learn.org/stable/modules/generated/sklearn.metrics.f1_score.html\">соответствующую функцию</a> с параметрами по умолчанию.\n",
    "\n"
   ],
   "metadata": {
    "id": "kAO1Bd2Q0qZr"
   }
  },
  {
   "cell_type": "code",
   "source": [
    "df = df1\n",
    "\n",
    "df.info()"
   ],
   "metadata": {
    "id": "8JJ6qQT618Uz",
    "colab": {
     "base_uri": "https://localhost:8080/"
    },
    "outputId": "f685d9a6-b0d2-4b18-9bae-048cbc9c1abf",
    "ExecuteTime": {
     "end_time": "2024-08-03T15:01:25.787965Z",
     "start_time": "2024-08-03T15:01:25.772207Z"
    }
   },
   "outputs": [
    {
     "name": "stdout",
     "output_type": "stream",
     "text": [
      "<class 'pandas.core.frame.DataFrame'>\n",
      "RangeIndex: 981 entries, 0 to 980\n",
      "Data columns (total 8 columns):\n",
      " #   Column    Non-Null Count  Dtype  \n",
      "---  ------    --------------  -----  \n",
      " 0   pclass    981 non-null    int64  \n",
      " 1   survived  981 non-null    int64  \n",
      " 2   name      981 non-null    object \n",
      " 3   sex       981 non-null    object \n",
      " 4   age       782 non-null    float64\n",
      " 5   fare      981 non-null    float64\n",
      " 6   embarked  981 non-null    object \n",
      " 7   fam_size  981 non-null    int64  \n",
      "dtypes: float64(2), int64(3), object(3)\n",
      "memory usage: 61.4+ KB\n"
     ]
    }
   ],
   "execution_count": 14
  },
  {
   "cell_type": "code",
   "source": [
    "df_cat = ['name', 'sex', 'embarked']"
   ],
   "metadata": {
    "id": "VrppDHvH9e_T",
    "ExecuteTime": {
     "end_time": "2024-08-03T15:01:25.795788Z",
     "start_time": "2024-08-03T15:01:25.790758Z"
    }
   },
   "outputs": [],
   "execution_count": 15
  },
  {
   "cell_type": "code",
   "source": [
    "df = df.drop(columns=df_cat)"
   ],
   "metadata": {
    "id": "QQqC4ywU01cL",
    "ExecuteTime": {
     "end_time": "2024-08-03T15:01:25.806476Z",
     "start_time": "2024-08-03T15:01:25.798323Z"
    }
   },
   "outputs": [],
   "execution_count": 16
  },
  {
   "cell_type": "code",
   "source": [
    "df2 = df\n",
    "\n",
    "df = df.dropna()"
   ],
   "metadata": {
    "id": "5HilIy1e0_Tv",
    "ExecuteTime": {
     "end_time": "2024-08-03T15:01:25.817226Z",
     "start_time": "2024-08-03T15:01:25.809096Z"
    }
   },
   "outputs": [],
   "execution_count": 17
  },
  {
   "cell_type": "code",
   "source": [
    "from sklearn.model_selection import train_test_split\n",
    "\n",
    "X = df.drop('survived', axis=1)\n",
    "y = df['survived']\n",
    "\n",
    "X_train, X_test, y_train, y_test = train_test_split(X, y, test_size=0.2, random_state=33, stratify=y)"
   ],
   "metadata": {
    "id": "8uFIToMe390x",
    "ExecuteTime": {
     "end_time": "2024-08-03T15:01:25.835007Z",
     "start_time": "2024-08-03T15:01:25.823095Z"
    }
   },
   "outputs": [],
   "execution_count": 18
  },
  {
   "cell_type": "code",
   "source": [
    "lr = LogisticRegression(random_state=33, max_iter=1000).fit(X_train, y_train)"
   ],
   "metadata": {
    "id": "m3aqveKQ4iYR",
    "ExecuteTime": {
     "end_time": "2024-08-03T15:01:25.863407Z",
     "start_time": "2024-08-03T15:01:25.837022Z"
    }
   },
   "outputs": [],
   "execution_count": 19
  },
  {
   "cell_type": "code",
   "source": [
    "prediction = lr.predict(X_test)\n",
    "\n",
    "f1_score(y_test, prediction)"
   ],
   "metadata": {
    "colab": {
     "base_uri": "https://localhost:8080/"
    },
    "id": "qo9VbpYl4yhF",
    "outputId": "dbda010a-60d3-4c84-82a0-c5c4d92a5005",
    "ExecuteTime": {
     "end_time": "2024-08-03T15:01:25.876544Z",
     "start_time": "2024-08-03T15:01:25.865748Z"
    }
   },
   "outputs": [
    {
     "data": {
      "text/plain": [
       "0.5391304347826087"
      ]
     },
     "execution_count": 20,
     "metadata": {},
     "output_type": "execute_result"
    }
   ],
   "execution_count": 20
  },
  {
   "cell_type": "markdown",
   "source": [
    "## Заполнение пропусков средним"
   ],
   "metadata": {
    "id": "UL6H4BxE3y-f"
   }
  },
  {
   "cell_type": "markdown",
   "source": [
    "Качество полученной модели оставляет желать лучшего. Имеет смысл попробовать заполнить пропуски. Из исходного набора данных удалите категориальные признаки, а пропуски заполните средним по столбцу. Далее аналогично: разделение, обучение, оценка.\n",
    "\n",
    "Вычислите <code>f1_score</code> модели на тестовых данных"
   ],
   "metadata": {
    "id": "vD6NntW04OJF"
   }
  },
  {
   "cell_type": "code",
   "source": [
    "df = df2"
   ],
   "metadata": {
    "id": "zMYFLiWZ4Gw-",
    "ExecuteTime": {
     "end_time": "2024-08-03T15:01:25.882125Z",
     "start_time": "2024-08-03T15:01:25.879056Z"
    }
   },
   "outputs": [],
   "execution_count": 21
  },
  {
   "cell_type": "code",
   "source": [
    "from sklearn.impute import SimpleImputer\n",
    "\n",
    "mis_replacer = SimpleImputer(strategy='mean')\n",
    "\n",
    "df = pd.DataFrame(mis_replacer.fit_transform(df), columns=df.columns)"
   ],
   "metadata": {
    "id": "zpBUg2R88KUh",
    "ExecuteTime": {
     "end_time": "2024-08-03T15:01:25.985261Z",
     "start_time": "2024-08-03T15:01:25.884250Z"
    }
   },
   "outputs": [],
   "execution_count": 22
  },
  {
   "cell_type": "code",
   "source": [
    "X = df.drop('survived', axis=1)\n",
    "y = df['survived']\n",
    "\n",
    "X_train, X_test, y_train, y_test = train_test_split(X, y, test_size=0.2, random_state=33, stratify=y)"
   ],
   "metadata": {
    "id": "dabeCR2u-_5N",
    "ExecuteTime": {
     "end_time": "2024-08-03T15:01:26.004956Z",
     "start_time": "2024-08-03T15:01:25.989921Z"
    }
   },
   "outputs": [],
   "execution_count": 23
  },
  {
   "cell_type": "code",
   "source": [
    "lr = LogisticRegression(random_state=33, max_iter=1000).fit(X_train, y_train)"
   ],
   "metadata": {
    "id": "RISe22w0_Cyd",
    "ExecuteTime": {
     "end_time": "2024-08-03T15:01:26.028765Z",
     "start_time": "2024-08-03T15:01:26.009146Z"
    }
   },
   "outputs": [],
   "execution_count": 24
  },
  {
   "cell_type": "code",
   "source": [
    "prediction = lr.predict(X_test)\n",
    "\n",
    "f1_score(y_test, prediction)"
   ],
   "metadata": {
    "colab": {
     "base_uri": "https://localhost:8080/"
    },
    "id": "rA1UEy1C_F0N",
    "outputId": "c91cc3dd-1d72-45c4-9e42-33efb188c8a3",
    "ExecuteTime": {
     "end_time": "2024-08-03T15:01:26.045058Z",
     "start_time": "2024-08-03T15:01:26.031704Z"
    }
   },
   "outputs": [
    {
     "data": {
      "text/plain": [
       "0.49557522123893805"
      ]
     },
     "execution_count": 25,
     "metadata": {},
     "output_type": "execute_result"
    }
   ],
   "execution_count": 25
  },
  {
   "cell_type": "markdown",
   "source": [
    "## Заполнение пропусков на основе обращения"
   ],
   "metadata": {
    "id": "dxuJDvb1_p_e"
   }
  },
  {
   "cell_type": "markdown",
   "source": [
    "\n",
    "Очевидно, что заполнение пропусков в колонке <code>age</code> средним — не самая разумная идея. Возможно, стоит выполнить эту процедуру как-то более интеллектуально, например, с оглядкой на обращение к человеку.\n",
    "\n",
    "Можно заметить, что исходный датасет в столбце <code>name</code> содержит информацию о социальном статусе пассажира, а именно присутсвуют обращения <code>Mr., Mrs., Dr.</code> и т.д. На основе этой информации можно попробовать сделать предположение о возрасте пассажира.\n",
    "\n",
    "Верните в рассмотрение колонку <code>name</code>. Создайте отдельную колонку <code>honorific</code> и поместите туда значения обращений.\n",
    "\n",
    "Вычислите число уникальных обращений."
   ],
   "metadata": {
    "id": "9ew5okxzKdLh"
   }
  },
  {
   "cell_type": "code",
   "source": [
    "df = df1"
   ],
   "metadata": {
    "id": "fMbYRoa-DArO",
    "ExecuteTime": {
     "end_time": "2024-08-03T15:01:26.053193Z",
     "start_time": "2024-08-03T15:01:26.046768Z"
    }
   },
   "outputs": [],
   "execution_count": 26
  },
  {
   "cell_type": "code",
   "source": [
    "df.info()"
   ],
   "metadata": {
    "colab": {
     "base_uri": "https://localhost:8080/"
    },
    "id": "hveCViVZktZz",
    "outputId": "54db09a5-1e7b-49ae-bcf1-cef7bfa295ae",
    "ExecuteTime": {
     "end_time": "2024-08-03T15:01:26.070113Z",
     "start_time": "2024-08-03T15:01:26.055798Z"
    }
   },
   "outputs": [
    {
     "name": "stdout",
     "output_type": "stream",
     "text": [
      "<class 'pandas.core.frame.DataFrame'>\n",
      "RangeIndex: 981 entries, 0 to 980\n",
      "Data columns (total 8 columns):\n",
      " #   Column    Non-Null Count  Dtype  \n",
      "---  ------    --------------  -----  \n",
      " 0   pclass    981 non-null    int64  \n",
      " 1   survived  981 non-null    int64  \n",
      " 2   name      981 non-null    object \n",
      " 3   sex       981 non-null    object \n",
      " 4   age       782 non-null    float64\n",
      " 5   fare      981 non-null    float64\n",
      " 6   embarked  981 non-null    object \n",
      " 7   fam_size  981 non-null    int64  \n",
      "dtypes: float64(2), int64(3), object(3)\n",
      "memory usage: 61.4+ KB\n"
     ]
    }
   ],
   "execution_count": 27
  },
  {
   "cell_type": "code",
   "source": [
    "df_cat = ['name', 'sex', 'embarked']"
   ],
   "metadata": {
    "id": "_xkLNh5uADPZ",
    "ExecuteTime": {
     "end_time": "2024-08-03T15:01:26.079213Z",
     "start_time": "2024-08-03T15:01:26.072864Z"
    }
   },
   "outputs": [],
   "execution_count": 28
  },
  {
   "cell_type": "code",
   "source": [
    "df = df.drop(columns=df_cat)"
   ],
   "metadata": {
    "id": "mgbvVEQVAJR3",
    "ExecuteTime": {
     "end_time": "2024-08-03T15:01:26.088922Z",
     "start_time": "2024-08-03T15:01:26.082122Z"
    }
   },
   "outputs": [],
   "execution_count": 29
  },
  {
   "cell_type": "code",
   "source": [
    "df"
   ],
   "metadata": {
    "colab": {
     "base_uri": "https://localhost:8080/",
     "height": 424
    },
    "id": "51xnMVAClIeK",
    "outputId": "be41a14f-cf78-482f-e51f-a109326489de",
    "ExecuteTime": {
     "end_time": "2024-08-03T15:01:26.110482Z",
     "start_time": "2024-08-03T15:01:26.093542Z"
    }
   },
   "outputs": [
    {
     "data": {
      "text/plain": [
       "     pclass  survived   age      fare  fam_size\n",
       "0         3         1   NaN    7.7333         0\n",
       "1         3         1   NaN    7.7500         0\n",
       "2         3         1  38.0    7.2292         0\n",
       "3         3         0  22.0    7.8958         0\n",
       "4         3         0  16.0    9.5000         0\n",
       "..      ...       ...   ...       ...       ...\n",
       "976       3         1   NaN    8.0500         0\n",
       "977       3         1  19.0    8.0500         0\n",
       "978       2         0  34.0   13.0000         0\n",
       "979       3         0  22.0    8.0500         0\n",
       "980       1         0   2.0  151.5500         3\n",
       "\n",
       "[981 rows x 5 columns]"
      ],
      "text/html": [
       "<div>\n",
       "<style scoped>\n",
       "    .dataframe tbody tr th:only-of-type {\n",
       "        vertical-align: middle;\n",
       "    }\n",
       "\n",
       "    .dataframe tbody tr th {\n",
       "        vertical-align: top;\n",
       "    }\n",
       "\n",
       "    .dataframe thead th {\n",
       "        text-align: right;\n",
       "    }\n",
       "</style>\n",
       "<table border=\"1\" class=\"dataframe\">\n",
       "  <thead>\n",
       "    <tr style=\"text-align: right;\">\n",
       "      <th></th>\n",
       "      <th>pclass</th>\n",
       "      <th>survived</th>\n",
       "      <th>age</th>\n",
       "      <th>fare</th>\n",
       "      <th>fam_size</th>\n",
       "    </tr>\n",
       "  </thead>\n",
       "  <tbody>\n",
       "    <tr>\n",
       "      <th>0</th>\n",
       "      <td>3</td>\n",
       "      <td>1</td>\n",
       "      <td>NaN</td>\n",
       "      <td>7.7333</td>\n",
       "      <td>0</td>\n",
       "    </tr>\n",
       "    <tr>\n",
       "      <th>1</th>\n",
       "      <td>3</td>\n",
       "      <td>1</td>\n",
       "      <td>NaN</td>\n",
       "      <td>7.7500</td>\n",
       "      <td>0</td>\n",
       "    </tr>\n",
       "    <tr>\n",
       "      <th>2</th>\n",
       "      <td>3</td>\n",
       "      <td>1</td>\n",
       "      <td>38.0</td>\n",
       "      <td>7.2292</td>\n",
       "      <td>0</td>\n",
       "    </tr>\n",
       "    <tr>\n",
       "      <th>3</th>\n",
       "      <td>3</td>\n",
       "      <td>0</td>\n",
       "      <td>22.0</td>\n",
       "      <td>7.8958</td>\n",
       "      <td>0</td>\n",
       "    </tr>\n",
       "    <tr>\n",
       "      <th>4</th>\n",
       "      <td>3</td>\n",
       "      <td>0</td>\n",
       "      <td>16.0</td>\n",
       "      <td>9.5000</td>\n",
       "      <td>0</td>\n",
       "    </tr>\n",
       "    <tr>\n",
       "      <th>...</th>\n",
       "      <td>...</td>\n",
       "      <td>...</td>\n",
       "      <td>...</td>\n",
       "      <td>...</td>\n",
       "      <td>...</td>\n",
       "    </tr>\n",
       "    <tr>\n",
       "      <th>976</th>\n",
       "      <td>3</td>\n",
       "      <td>1</td>\n",
       "      <td>NaN</td>\n",
       "      <td>8.0500</td>\n",
       "      <td>0</td>\n",
       "    </tr>\n",
       "    <tr>\n",
       "      <th>977</th>\n",
       "      <td>3</td>\n",
       "      <td>1</td>\n",
       "      <td>19.0</td>\n",
       "      <td>8.0500</td>\n",
       "      <td>0</td>\n",
       "    </tr>\n",
       "    <tr>\n",
       "      <th>978</th>\n",
       "      <td>2</td>\n",
       "      <td>0</td>\n",
       "      <td>34.0</td>\n",
       "      <td>13.0000</td>\n",
       "      <td>0</td>\n",
       "    </tr>\n",
       "    <tr>\n",
       "      <th>979</th>\n",
       "      <td>3</td>\n",
       "      <td>0</td>\n",
       "      <td>22.0</td>\n",
       "      <td>8.0500</td>\n",
       "      <td>0</td>\n",
       "    </tr>\n",
       "    <tr>\n",
       "      <th>980</th>\n",
       "      <td>1</td>\n",
       "      <td>0</td>\n",
       "      <td>2.0</td>\n",
       "      <td>151.5500</td>\n",
       "      <td>3</td>\n",
       "    </tr>\n",
       "  </tbody>\n",
       "</table>\n",
       "<p>981 rows × 5 columns</p>\n",
       "</div>"
      ]
     },
     "execution_count": 30,
     "metadata": {},
     "output_type": "execute_result"
    }
   ],
   "execution_count": 30
  },
  {
   "cell_type": "code",
   "source": [
    "honorific = []\n",
    "\n",
    "for name in df1.name:\n",
    "  honor = name.split(', ')[1].split('.')[0]\n",
    "  honorific.append(honor)"
   ],
   "metadata": {
    "id": "E8_QrrcjlSjU",
    "ExecuteTime": {
     "end_time": "2024-08-03T15:01:26.120982Z",
     "start_time": "2024-08-03T15:01:26.113581Z"
    }
   },
   "outputs": [],
   "execution_count": 31
  },
  {
   "cell_type": "code",
   "source": [
    "df['honorific'] = honorific"
   ],
   "metadata": {
    "id": "iLE7s4c3AKWq",
    "ExecuteTime": {
     "end_time": "2024-08-03T15:01:26.129902Z",
     "start_time": "2024-08-03T15:01:26.123184Z"
    }
   },
   "outputs": [],
   "execution_count": 32
  },
  {
   "cell_type": "code",
   "source": [
    "len(df.honorific.unique())"
   ],
   "metadata": {
    "colab": {
     "base_uri": "https://localhost:8080/"
    },
    "id": "CgpwQPmgCJ16",
    "outputId": "691298d2-626f-4f98-eda0-c0c1f5d54637",
    "ExecuteTime": {
     "end_time": "2024-08-03T15:01:26.142986Z",
     "start_time": "2024-08-03T15:01:26.134204Z"
    }
   },
   "outputs": [
    {
     "data": {
      "text/plain": [
       "14"
      ]
     },
     "execution_count": 33,
     "metadata": {},
     "output_type": "execute_result"
    }
   ],
   "execution_count": 33
  },
  {
   "cell_type": "code",
   "source": [
    "df.honorific.unique()"
   ],
   "metadata": {
    "colab": {
     "base_uri": "https://localhost:8080/"
    },
    "id": "df_niP-vDOot",
    "outputId": "170427f9-0f7d-46a1-c2e4-21fd939143f4",
    "ExecuteTime": {
     "end_time": "2024-08-03T15:01:26.154972Z",
     "start_time": "2024-08-03T15:01:26.145403Z"
    }
   },
   "outputs": [
    {
     "data": {
      "text/plain": [
       "array(['Miss', 'Mrs', 'Mr', 'Master', 'Mlle', 'Rev', 'Ms', 'Col', 'Dona',\n",
       "       'Dr', 'the Countess', 'Major', 'Don', 'Capt'], dtype=object)"
      ]
     },
     "execution_count": 34,
     "metadata": {},
     "output_type": "execute_result"
    }
   ],
   "execution_count": 34
  },
  {
   "cell_type": "markdown",
   "source": [
    "Скорее всего имеет смысл сократить число обращений, добавив малочисленные группы к более многочисленным, так как принципиальной разницы между, например, <code>Don</code> и <code>Mr</code>, видимо, нет. Отметим, что <code>Master</code> — это прежнее обращение к ребенку, с этим обращением будем работать отдельно.\n",
    "\n",
    "\n",
    "\n",
    "\n",
    "Выполните следующие замены:\n",
    "\n",
    "<code>Mr</code> $\\leftarrow$ <code>['Rev', 'Col', 'Dr', 'Major', 'Don', 'Capt']</code>\n",
    "\n",
    "<code>Mrs</code> $\\leftarrow$ <code> ['Dona', 'Countess']</code>\n",
    "\n",
    "<code>Miss</code> $\\leftarrow$ <code> ['Mlle', 'Ms']</code>"
   ],
   "metadata": {
    "id": "6HNMeGu9GJWN"
   }
  },
  {
   "cell_type": "code",
   "source": [
    "df['honorific'] = df['honorific'].replace(['Rev', 'Col', 'Dr', 'Major', 'Don', 'Capt'], 'Mr')\n",
    "df['honorific'] = df['honorific'].replace(['Dona', 'the Countess'], 'Mrs')\n",
    "df['honorific'] = df['honorific'].replace(['Mlle', 'Ms'], 'Miss')"
   ],
   "metadata": {
    "id": "jiQBH3_8G0SF",
    "ExecuteTime": {
     "end_time": "2024-08-03T15:01:26.186571Z",
     "start_time": "2024-08-03T15:01:26.176061Z"
    }
   },
   "outputs": [],
   "execution_count": 35
  },
  {
   "cell_type": "markdown",
   "source": [
    "Вычислите долю строк со значением <code>Master</code> относительно числа всех мужчин"
   ],
   "metadata": {
    "id": "qh-KpfttKxYD"
   }
  },
  {
   "cell_type": "code",
   "source": [
    "len(df[df['honorific'] == 'Master']) / len(df1[df1['sex'] == 'male'])"
   ],
   "metadata": {
    "id": "2g2fHrAGK_CA",
    "colab": {
     "base_uri": "https://localhost:8080/"
    },
    "outputId": "0f3e279e-3368-4bee-e7ab-09b8d892a1bf",
    "ExecuteTime": {
     "end_time": "2024-08-03T15:01:26.201459Z",
     "start_time": "2024-08-03T15:01:26.189040Z"
    }
   },
   "outputs": [
    {
     "data": {
      "text/plain": [
       "0.07232704402515723"
      ]
     },
     "execution_count": 36,
     "metadata": {},
     "output_type": "execute_result"
    }
   ],
   "execution_count": 36
  },
  {
   "cell_type": "markdown",
   "source": [
    "Вычислите средний возраст категории, указанной в вашем индивидуальном задании"
   ],
   "metadata": {
    "id": "XD7hs0k7L77K"
   }
  },
  {
   "cell_type": "code",
   "source": [
    "df[df.honorific == 'Master'].age.mean()"
   ],
   "metadata": {
    "id": "stKBPTCQMGlf",
    "colab": {
     "base_uri": "https://localhost:8080/"
    },
    "outputId": "0feddef0-c1a2-4f33-eaaf-07272fb611e0",
    "ExecuteTime": {
     "end_time": "2024-08-03T15:01:26.215048Z",
     "start_time": "2024-08-03T15:01:26.204882Z"
    }
   },
   "outputs": [
    {
     "data": {
      "text/plain": [
       "5.128205128205129"
      ]
     },
     "execution_count": 37,
     "metadata": {},
     "output_type": "execute_result"
    }
   ],
   "execution_count": 37
  },
  {
   "cell_type": "markdown",
   "source": [
    "Заполните пропуски в колонке <code>age</code> средним, соответствующим среднему категории <code>honorific</code>.\n",
    "\n",
    "Избавьтесь от нечисловых признаков. Далее аналогично: разделение, обучение, оценка.\n",
    "\n",
    "Вычислите <code>f1_score</code> модели на тестовых данных"
   ],
   "metadata": {
    "id": "cQ4Z0tKNLk_B"
   }
  },
  {
   "cell_type": "code",
   "source": [
    "mean_age_by_honor = df.groupby('honorific')['age'].mean()\n",
    "mean_age_by_honor"
   ],
   "metadata": {
    "id": "B5c_i_6HN3aA",
    "colab": {
     "base_uri": "https://localhost:8080/"
    },
    "outputId": "1903b209-2040-4279-8894-626359e5a9a9",
    "ExecuteTime": {
     "end_time": "2024-08-03T15:01:26.231987Z",
     "start_time": "2024-08-03T15:01:26.217182Z"
    }
   },
   "outputs": [
    {
     "data": {
      "text/plain": [
       "honorific\n",
       "Master     5.128205\n",
       "Miss      22.005765\n",
       "Mr        32.900438\n",
       "Mrs       36.984252\n",
       "Name: age, dtype: float64"
      ]
     },
     "execution_count": 38,
     "metadata": {},
     "output_type": "execute_result"
    }
   ],
   "execution_count": 38
  },
  {
   "cell_type": "code",
   "source": [
    "null_Master_id = df[(df['age'].isnull()) & (df['honorific'] == 'Master')].index\n",
    "null_Miss_id = df[(df['age'].isnull()) & (df['honorific'] == 'Miss')].index\n",
    "null_Mr_id = df[(df['age'].isnull()) & (df['honorific'] == 'Mr')].index\n",
    "null_Mrs_id = df[(df['age'].isnull()) & (df['honorific'] == 'Mrs')].index"
   ],
   "metadata": {
    "id": "H8xqQBGLFyH2",
    "ExecuteTime": {
     "end_time": "2024-08-03T15:01:26.251271Z",
     "start_time": "2024-08-03T15:01:26.234465Z"
    }
   },
   "outputs": [],
   "execution_count": 39
  },
  {
   "cell_type": "code",
   "source": [
    "df.loc[null_Master_id, 'age'] = mean_age_by_honor[0]\n",
    "df.loc[null_Miss_id, 'age'] = mean_age_by_honor[1]\n",
    "df.loc[null_Mr_id, 'age'] = mean_age_by_honor[2]\n",
    "df.loc[null_Mrs_id, 'age'] = mean_age_by_honor[3]"
   ],
   "metadata": {
    "id": "VzjuMXSryH8X",
    "ExecuteTime": {
     "end_time": "2024-08-03T15:01:26.265245Z",
     "start_time": "2024-08-03T15:01:26.253121Z"
    }
   },
   "outputs": [
    {
     "name": "stderr",
     "output_type": "stream",
     "text": [
      "/var/folders/c2/2hwxbv6j5sd97nrqd5q9vwlw0000gn/T/ipykernel_3390/3869134065.py:1: FutureWarning: Series.__getitem__ treating keys as positions is deprecated. In a future version, integer keys will always be treated as labels (consistent with DataFrame behavior). To access a value by position, use `ser.iloc[pos]`\n",
      "  df.loc[null_Master_id, 'age'] = mean_age_by_honor[0]\n",
      "/var/folders/c2/2hwxbv6j5sd97nrqd5q9vwlw0000gn/T/ipykernel_3390/3869134065.py:2: FutureWarning: Series.__getitem__ treating keys as positions is deprecated. In a future version, integer keys will always be treated as labels (consistent with DataFrame behavior). To access a value by position, use `ser.iloc[pos]`\n",
      "  df.loc[null_Miss_id, 'age'] = mean_age_by_honor[1]\n",
      "/var/folders/c2/2hwxbv6j5sd97nrqd5q9vwlw0000gn/T/ipykernel_3390/3869134065.py:3: FutureWarning: Series.__getitem__ treating keys as positions is deprecated. In a future version, integer keys will always be treated as labels (consistent with DataFrame behavior). To access a value by position, use `ser.iloc[pos]`\n",
      "  df.loc[null_Mr_id, 'age'] = mean_age_by_honor[2]\n",
      "/var/folders/c2/2hwxbv6j5sd97nrqd5q9vwlw0000gn/T/ipykernel_3390/3869134065.py:4: FutureWarning: Series.__getitem__ treating keys as positions is deprecated. In a future version, integer keys will always be treated as labels (consistent with DataFrame behavior). To access a value by position, use `ser.iloc[pos]`\n",
      "  df.loc[null_Mrs_id, 'age'] = mean_age_by_honor[3]\n"
     ]
    }
   ],
   "execution_count": 40
  },
  {
   "cell_type": "code",
   "source": [
    "df.info()"
   ],
   "metadata": {
    "colab": {
     "base_uri": "https://localhost:8080/"
    },
    "id": "0jJ5mKSf3kMc",
    "outputId": "e6d75df6-93d3-4b81-ced4-277dcff3a0a6",
    "ExecuteTime": {
     "end_time": "2024-08-03T15:01:26.283147Z",
     "start_time": "2024-08-03T15:01:26.268291Z"
    }
   },
   "outputs": [
    {
     "name": "stdout",
     "output_type": "stream",
     "text": [
      "<class 'pandas.core.frame.DataFrame'>\n",
      "RangeIndex: 981 entries, 0 to 980\n",
      "Data columns (total 6 columns):\n",
      " #   Column     Non-Null Count  Dtype  \n",
      "---  ------     --------------  -----  \n",
      " 0   pclass     981 non-null    int64  \n",
      " 1   survived   981 non-null    int64  \n",
      " 2   age        981 non-null    float64\n",
      " 3   fare       981 non-null    float64\n",
      " 4   fam_size   981 non-null    int64  \n",
      " 5   honorific  981 non-null    object \n",
      "dtypes: float64(2), int64(3), object(1)\n",
      "memory usage: 46.1+ KB\n"
     ]
    }
   ],
   "execution_count": 41
  },
  {
   "cell_type": "code",
   "source": [
    "X = df.drop(['survived', 'honorific'], axis=1)\n",
    "y = df['survived']\n",
    "\n",
    "X_train, X_test, y_train, y_test = train_test_split(X, y, test_size=0.2, random_state=33, stratify=y)"
   ],
   "metadata": {
    "id": "mw8LjZB132Ub",
    "ExecuteTime": {
     "end_time": "2024-08-03T15:01:26.297359Z",
     "start_time": "2024-08-03T15:01:26.286771Z"
    }
   },
   "outputs": [],
   "execution_count": 42
  },
  {
   "cell_type": "code",
   "source": [
    "lr = LogisticRegression(random_state=33, max_iter=1000).fit(X_train, y_train)"
   ],
   "metadata": {
    "id": "_qBDBZPk32Um",
    "ExecuteTime": {
     "end_time": "2024-08-03T15:01:26.323278Z",
     "start_time": "2024-08-03T15:01:26.299615Z"
    }
   },
   "outputs": [],
   "execution_count": 43
  },
  {
   "cell_type": "code",
   "source": [
    "prediction = lr.predict(X_test)\n",
    "\n",
    "f1_score(y_test, prediction)"
   ],
   "metadata": {
    "colab": {
     "base_uri": "https://localhost:8080/"
    },
    "outputId": "a127c23a-f2d6-4e64-b9d5-6732f1ae61c9",
    "id": "eYhG0dkG32Um",
    "ExecuteTime": {
     "end_time": "2024-08-03T15:01:26.339897Z",
     "start_time": "2024-08-03T15:01:26.326062Z"
    }
   },
   "outputs": [
    {
     "data": {
      "text/plain": [
       "0.5128205128205128"
      ]
     },
     "execution_count": 44,
     "metadata": {},
     "output_type": "execute_result"
    }
   ],
   "execution_count": 44
  },
  {
   "cell_type": "markdown",
   "source": [
    "# Модель с использование категориальных признаков"
   ],
   "metadata": {
    "id": "YGCBn1fiSbjG"
   }
  },
  {
   "cell_type": "markdown",
   "source": [
    "В исходном наборе данных заполните пропуски колонки <code>age</code> значениями на основе обращений (как в предыдущем пункте).\n",
    "\n",
    "Не используйте признаки <code>name</code> и <code>honorific</code>. Они свою функцию выполнили.\n",
    "\n",
    "Произведите <code>one-hot</code> кодировние нечисловых признаков, например, с помощью <code>pd.get_dummies(drop_first=True)</code>. Далее по знакомой схеме: разделение, обучение, оценка.\n",
    "\n",
    "Вычислите <code>f1_score</code> модели на тестовых данных"
   ],
   "metadata": {
    "id": "BlILajPNTMgL"
   }
  },
  {
   "cell_type": "code",
   "source": [
    "df1.age = df.age"
   ],
   "metadata": {
    "id": "AiRm3GIdUsVt",
    "ExecuteTime": {
     "end_time": "2024-08-03T15:01:26.350317Z",
     "start_time": "2024-08-03T15:01:26.341986Z"
    }
   },
   "outputs": [],
   "execution_count": 45
  },
  {
   "cell_type": "code",
   "source": [
    "df = df1"
   ],
   "metadata": {
    "id": "XsCw56Sj5Gro",
    "ExecuteTime": {
     "end_time": "2024-08-03T15:01:26.358723Z",
     "start_time": "2024-08-03T15:01:26.352519Z"
    }
   },
   "outputs": [],
   "execution_count": 46
  },
  {
   "cell_type": "code",
   "source": [
    "df = df.drop(['name'], axis=1)"
   ],
   "metadata": {
    "id": "IaQ6U5Uc5MmP",
    "ExecuteTime": {
     "end_time": "2024-08-03T15:01:26.366436Z",
     "start_time": "2024-08-03T15:01:26.360909Z"
    }
   },
   "outputs": [],
   "execution_count": 47
  },
  {
   "cell_type": "code",
   "source": [
    "dummies = pd.get_dummies(df[['sex', 'embarked']], drop_first=True)\n",
    "\n",
    "df = df.drop(['sex', 'embarked'], axis=1)\n",
    "\n",
    "df[dummies.columns] = dummies"
   ],
   "metadata": {
    "id": "0gtEZHPD5VAA",
    "ExecuteTime": {
     "end_time": "2024-08-03T15:01:26.385956Z",
     "start_time": "2024-08-03T15:01:26.369799Z"
    }
   },
   "outputs": [],
   "execution_count": 48
  },
  {
   "cell_type": "code",
   "source": [
    "X = df.drop(['survived'], axis=1)\n",
    "y = df['survived']\n",
    "\n",
    "X_train, X_test, y_train, y_test = train_test_split(X, y, test_size=0.2, random_state=33, stratify=y)"
   ],
   "metadata": {
    "id": "6GkYWVhI7CRE",
    "ExecuteTime": {
     "end_time": "2024-08-03T15:01:26.402502Z",
     "start_time": "2024-08-03T15:01:26.389197Z"
    }
   },
   "outputs": [],
   "execution_count": 49
  },
  {
   "cell_type": "code",
   "source": [
    "lr = LogisticRegression(random_state=33, max_iter=1000).fit(X_train, y_train)"
   ],
   "metadata": {
    "id": "vuC_BfKi7CRF",
    "ExecuteTime": {
     "end_time": "2024-08-03T15:01:26.439858Z",
     "start_time": "2024-08-03T15:01:26.405029Z"
    }
   },
   "outputs": [],
   "execution_count": 50
  },
  {
   "cell_type": "code",
   "source": [
    "prediction = lr.predict(X_test)\n",
    "\n",
    "f1_score(y_test, prediction)"
   ],
   "metadata": {
    "colab": {
     "base_uri": "https://localhost:8080/"
    },
    "outputId": "cf51e173-f5d2-4a18-9f50-864285684d3f",
    "id": "IZuxUxyj7CRF",
    "ExecuteTime": {
     "end_time": "2024-08-03T15:01:26.454012Z",
     "start_time": "2024-08-03T15:01:26.441513Z"
    }
   },
   "outputs": [
    {
     "data": {
      "text/plain": [
       "0.6666666666666666"
      ]
     },
     "execution_count": 51,
     "metadata": {},
     "output_type": "execute_result"
    }
   ],
   "execution_count": 51
  }
 ]
}
