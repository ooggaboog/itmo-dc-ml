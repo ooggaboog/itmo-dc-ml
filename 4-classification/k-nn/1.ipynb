{
 "cells": [
  {
   "cell_type": "code",
   "id": "initial_id",
   "metadata": {
    "collapsed": true,
    "ExecuteTime": {
     "end_time": "2024-08-03T14:40:42.671617Z",
     "start_time": "2024-08-03T14:40:42.663631Z"
    }
   },
   "source": [
    "import io\n",
    "import pandas as pd\n",
    "from sklearn.neighbors import KNeighborsClassifier"
   ],
   "outputs": [],
   "execution_count": 49
  },
  {
   "metadata": {
    "ExecuteTime": {
     "end_time": "2024-08-03T14:40:42.689379Z",
     "start_time": "2024-08-03T14:40:42.675303Z"
    }
   },
   "cell_type": "code",
   "source": [
    "data = '''\n",
    "id,X,Y,Class\n",
    "1,85,78,0\n",
    "2,47,33,1\n",
    "3,56,46,1\n",
    "4,80,37,1\n",
    "5,52,62,0\n",
    "6,91,55,0\n",
    "7,35,78,0\n",
    "8,65,32,1\n",
    "9,91,98,1\n",
    "10,82,91,1\n",
    "'''\n",
    "\n",
    "df = pd.read_csv(io.StringIO(data), index_col='id')\n",
    "X = pd.DataFrame([[52, 87]], columns=['X', 'Y'])"
   ],
   "id": "9c39d963744c9030",
   "outputs": [],
   "execution_count": 50
  },
  {
   "metadata": {
    "ExecuteTime": {
     "end_time": "2024-08-03T14:40:42.716717Z",
     "start_time": "2024-08-03T14:40:42.693915Z"
    }
   },
   "cell_type": "code",
   "source": [
    "# метрика - евклидово расстояние\n",
    "neigh = KNeighborsClassifier(n_neighbors=3, metric='euclidean')\n",
    "neigh.fit(df[['X', 'Y']], df['Class'])\n",
    "print(neigh.kneighbors(X, n_neighbors=1, return_distance=True)[0][0][0])\n",
    "print((neigh.kneighbors(X)[1] + 1)[0])\n",
    "print(neigh.predict(X)[0])"
   ],
   "id": "311ed52003a84f06",
   "outputs": [
    {
     "name": "stdout",
     "output_type": "stream",
     "text": [
      "19.235384061671343\n",
      "[ 7  5 10]\n",
      "0\n"
     ]
    }
   ],
   "execution_count": 51
  },
  {
   "metadata": {
    "ExecuteTime": {
     "end_time": "2024-08-03T14:40:42.745051Z",
     "start_time": "2024-08-03T14:40:42.720406Z"
    }
   },
   "cell_type": "code",
   "source": [
    "# метрика - расстояние городских кварталов (Манхеттенская)\n",
    "neigh = KNeighborsClassifier(n_neighbors=3, metric='manhattan')\n",
    "neigh.fit(df[['X', 'Y']], df['Class'])\n",
    "print(neigh.kneighbors(X, n_neighbors=1, return_distance=True)[0][0][0])\n",
    "print((neigh.kneighbors(X)[1] + 1)[0])\n",
    "print(neigh.predict(X)[0])"
   ],
   "id": "e038b4b6f6699d7f",
   "outputs": [
    {
     "name": "stdout",
     "output_type": "stream",
     "text": [
      "25.0\n",
      "[ 5  7 10]\n",
      "0\n"
     ]
    }
   ],
   "execution_count": 52
  }
 ],
 "metadata": {
  "kernelspec": {
   "display_name": "Python 3",
   "language": "python",
   "name": "python3"
  },
  "language_info": {
   "codemirror_mode": {
    "name": "ipython",
    "version": 2
   },
   "file_extension": ".py",
   "mimetype": "text/x-python",
   "name": "python",
   "nbconvert_exporter": "python",
   "pygments_lexer": "ipython2",
   "version": "2.7.6"
  }
 },
 "nbformat": 4,
 "nbformat_minor": 5
}
